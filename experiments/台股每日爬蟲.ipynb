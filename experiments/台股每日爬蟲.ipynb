{
 "cells": [
  {
   "cell_type": "code",
   "execution_count": null,
   "metadata": {},
   "outputs": [],
   "source": [
    "import requests\n",
    "from io import StringIO\n",
    "import pandas as pd\n",
    "import numpy as np\n",
    "from tqdm import tqdm\n",
    "import datetime\n",
    "import time"
   ]
  },
  {
   "cell_type": "code",
   "execution_count": null,
   "metadata": {},
   "outputs": [],
   "source": [
    "import finlab"
   ]
  },
  {
   "cell_type": "code",
   "execution_count": null,
   "metadata": {},
   "outputs": [],
   "source": [
    "df = finlab.data.get(\"每股盈餘\")"
   ]
  },
  {
   "cell_type": "code",
   "execution_count": null,
   "metadata": {},
   "outputs": [],
   "source": [
    "df.loc['2019-08':]['3046'].sum()"
   ]
  },
  {
   "cell_type": "code",
   "execution_count": null,
   "metadata": {},
   "outputs": [],
   "source": [
    "for col in df.columns:\n",
    "    if len(col) > 4:\n",
    "        print(col)"
   ]
  },
  {
   "cell_type": "code",
   "execution_count": null,
   "metadata": {},
   "outputs": [],
   "source": [
    "finlab.backtest(5)"
   ]
  },
  {
   "cell_type": "code",
   "execution_count": null,
   "metadata": {},
   "outputs": [],
   "source": [
    "dir(finlab)"
   ]
  },
  {
   "cell_type": "code",
   "execution_count": null,
   "metadata": {},
   "outputs": [],
   "source": [
    "def Day_Stock(date_str):\n",
    "    r = requests.post('https://www.twse.com.tw/exchangeReport/MI_INDEX?response=csv&date=' + date_str + '&type=ALL')\n",
    "    df = pd.read_csv(StringIO(r.text.replace(\"=\", \"\")), header=[\"證券代號\" in l for l in r.text.split(\"\\n\")].index(True)-1)\n",
    "    df = df.apply(lambda s: s.astype(str).str.replace(\",\", \"\").replace(\"+\", \"1\").replace(\"-\", \"-1\"))\n",
    "    df = df.set_index(\"證券代號\")\n",
    "    df.drop(\"Unnamed: 16\", axis=1, inplace=True)\n",
    "    df.drop(index=[col for col in df.index if len(col) > 4], errors='ignore', inplace=True)\n",
    "    return df\n",
    "\n",
    "def to_timeseries(df_dict, colname):\n",
    "    df_timeseries = []\n",
    "    for target_date_str in df_dict:\n",
    "        target_df = df_dict[target_date_str][[colname]].transpose()\n",
    "        target_df = target_df.rename(index={colname: target_date_str})\n",
    "        target_df.set_index(pd.to_datetime(target_df.index))\n",
    "        df_timeseries.append(target_df)\n",
    "    df_timeseries = pd.concat(df_timeseries)\n",
    "    df_timeseries = df_timeseries.set_index(pd.to_datetime(df_timeseries.index))\n",
    "    return df_timeseries\n",
    "\n",
    "def save_daily_data(start, num_day=None, pack=0, merge=True):\n",
    "    now = datetime.datetime.now()\n",
    "    y, m, d = [i for i in map(int, start.split(\"-\"))]\n",
    "    start = datetime.datetime(y, m, d)\n",
    "    if num_day is None:\n",
    "        num_day = max(now.day - start.day, 1)\n",
    "    DAY = datetime.timedelta(1)\n",
    "    dfs = {}\n",
    "    for i in range(num_day):\n",
    "        progress = '.' * (i + 1)\n",
    "        print(f\"\\rCrawling {progress}\", end=\"\")\n",
    "        zzz = np.random.randint(5,10)\n",
    "        time.sleep(zzz)\n",
    "        target_date = start + i * DAY\n",
    "        if target_date > now:\n",
    "            break\n",
    "        weekday = target_date.strftime('%w')\n",
    "        target_date_str = target_date.strftime('%Y%m%d')\n",
    "        if weekday not in ['0', '6']:\n",
    "            if target_date == now and now.hour <= 14:\n",
    "                continue\n",
    "            try:\n",
    "                _df = Day_Stock(target_date_str)\n",
    "            except ValueError:\n",
    "                print(target_date_str)\n",
    "                continue\n",
    "            dfs[target_date_str] = _df\n",
    "    total_df = []\n",
    "    for col in ['最高價', '最低價', '收盤價', '本益比', '成交股數']:\n",
    "        print(f\"\\rSaving {col}                      \", end=\"\")\n",
    "        if pack:\n",
    "            fname = os.path.join(os.getcwd(), \"..\", \"data\", f\"{col}{pack:03}.pkl\")\n",
    "        else:\n",
    "            fname = os.path.join(os.getcwd(), \"..\", \"data\", f\"{col}.pkl\")\n",
    "        df = to_timeseries(dfs, col)\n",
    "        if os.path.exists(fname) and merge:\n",
    "            _df = pd.read_pickle(fname)\n",
    "            df = pd.concat([df, _df])\n",
    "        df.drop_duplicates().to_pickle(fname)\n",
    "\n",
    "def get_data(name, pack=0):\n",
    "    if pack:\n",
    "        fname = os.path.join(os.getcwd(), \"..\", \"data\", f\"{name}{pack:03}.pkl\")\n",
    "    else:\n",
    "        fname = os.path.join(os.getcwd(), \"..\", \"data\", f\"{name}.pkl\")\n",
    "    assert os.path.exists(fname), f\"{fname} does not exist.\"\n",
    "    df = pd.read_pickle(fname)\n",
    "    return df\n"
   ]
  },
  {
   "cell_type": "code",
   "execution_count": null,
   "metadata": {},
   "outputs": [],
   "source": [
    "temp = get_data('本益比')\n",
    "temp"
   ]
  },
  {
   "cell_type": "code",
   "execution_count": null,
   "metadata": {},
   "outputs": [],
   "source": [
    "save_daily_data('2020-06-10', 1)"
   ]
  },
  {
   "cell_type": "code",
   "execution_count": null,
   "metadata": {},
   "outputs": [],
   "source": [
    "pd.read_pickle(fname)"
   ]
  },
  {
   "cell_type": "code",
   "execution_count": null,
   "metadata": {},
   "outputs": [],
   "source": [
    "start = datetime.datetime(2020,6,1) + 5 * DAY\n",
    "start"
   ]
  },
  {
   "cell_type": "code",
   "execution_count": null,
   "metadata": {},
   "outputs": [],
   "source": [
    "start = datetime.datetime(2015,1,1)"
   ]
  },
  {
   "cell_type": "code",
   "execution_count": null,
   "metadata": {},
   "outputs": [],
   "source": [
    "start - datetime.datetime.now()"
   ]
  },
  {
   "cell_type": "code",
   "execution_count": null,
   "metadata": {},
   "outputs": [],
   "source": [
    "start = datetime.datetime(2015,1,1)\n",
    "DAY = datetime.timedelta(1) \n",
    "num_day = 1\n",
    "pack = 1\n",
    "while start <= datetime.datetime.now():\n",
    "    # print(start)\n",
    "    if (num_day % 39 == 0 and num_day != 0):\n",
    "        # print(start - (num_day-1) * DAY)\n",
    "        save_daily_data((start - (num_day+1) * DAY).strftime('%Y-%m-%d'), num_day=num_day, pack=pack, merge=False)\n",
    "        num_day = 0\n",
    "        pack += 1\n",
    "    start += DAY\n",
    "    \n",
    "    num_day += 1\n"
   ]
  },
  {
   "cell_type": "code",
   "execution_count": null,
   "metadata": {},
   "outputs": [],
   "source": [
    "start.strftime('%Y%m%d')"
   ]
  },
  {
   "cell_type": "code",
   "execution_count": null,
   "metadata": {},
   "outputs": [],
   "source": [
    "start + datetime.timedelta(1) * (end - start).days"
   ]
  },
  {
   "cell_type": "code",
   "execution_count": null,
   "metadata": {},
   "outputs": [],
   "source": [
    "start = '2020-06-15'\n",
    "start = start.split(\"-\")"
   ]
  },
  {
   "cell_type": "code",
   "execution_count": null,
   "metadata": {},
   "outputs": [],
   "source": [
    "[i for i in map(int, start)]"
   ]
  },
  {
   "cell_type": "code",
   "execution_count": null,
   "metadata": {},
   "outputs": [],
   "source": [
    "import os"
   ]
  },
  {
   "cell_type": "code",
   "execution_count": null,
   "metadata": {},
   "outputs": [],
   "source": [
    "root = os.getcwd()\n",
    "root"
   ]
  },
  {
   "cell_type": "code",
   "execution_count": null,
   "metadata": {},
   "outputs": [],
   "source": [
    "for df, col in zip(total_df, ['最高價', '最低價', '收盤價', '本益比', '成交股數']):\n",
    "    df.to_pickle(os.path.join(os.getcwd(), \"..\", \"data\", f\"{col}.pkl\"))"
   ]
  },
  {
   "cell_type": "code",
   "execution_count": null,
   "metadata": {},
   "outputs": [],
   "source": [
    "df = pd.read_pickle(os.path.join(os.getcwd(), \"..\", \"data\", f\"{col}.pkl\"))"
   ]
  },
  {
   "cell_type": "code",
   "execution_count": null,
   "metadata": {},
   "outputs": [],
   "source": [
    "df"
   ]
  },
  {
   "cell_type": "code",
   "execution_count": null,
   "metadata": {},
   "outputs": [],
   "source": [
    "df.set_index(pd.to_datetime(df.index))"
   ]
  },
  {
   "cell_type": "code",
   "execution_count": null,
   "metadata": {},
   "outputs": [],
   "source": [
    "peratio"
   ]
  },
  {
   "cell_type": "code",
   "execution_count": null,
   "metadata": {},
   "outputs": [],
   "source": [
    "pd.to_datetime(peratio.index)"
   ]
  },
  {
   "cell_type": "code",
   "execution_count": null,
   "metadata": {},
   "outputs": [],
   "source": [
    "peratio = dfs[target_date_str][['本益比']].transpose()\n",
    "peratio = peratio.rename(index={'本益比': target_date_str})\n",
    "peratio.set_index(pd.to_datetime(peratio.index))"
   ]
  },
  {
   "cell_type": "code",
   "execution_count": null,
   "metadata": {},
   "outputs": [],
   "source": []
  },
  {
   "cell_type": "code",
   "execution_count": null,
   "metadata": {},
   "outputs": [],
   "source": [
    "peratio = dfs[target_date_str][['本益比']].transpose()"
   ]
  },
  {
   "cell_type": "code",
   "execution_count": null,
   "metadata": {},
   "outputs": [],
   "source": []
  },
  {
   "cell_type": "code",
   "execution_count": null,
   "metadata": {},
   "outputs": [],
   "source": [
    "target = {}\n",
    "for date in dfs:\n",
    "    target[date] = dfs[date].loc['0050']"
   ]
  },
  {
   "cell_type": "code",
   "execution_count": null,
   "metadata": {},
   "outputs": [],
   "source": [
    "target_df = pd.DataFrame(target).transpose()"
   ]
  },
  {
   "cell_type": "code",
   "execution_count": null,
   "metadata": {},
   "outputs": [],
   "source": [
    "target_df.set_index(pd.to_datetime(target_df.index))"
   ]
  },
  {
   "cell_type": "code",
   "execution_count": null,
   "metadata": {},
   "outputs": [],
   "source": [
    "\n",
    "\n",
    "datestr = datetime.datetime.now().strftime('%Y%m%d')\n",
    "\n",
    "# 下載股價\n",
    "r = requests.post('https://www.twse.com.tw/exchangeReport/MI_INDEX?response=csv&date=' + datestr + '&type=ALL')\n",
    "\n"
   ]
  },
  {
   "cell_type": "code",
   "execution_count": null,
   "metadata": {},
   "outputs": [],
   "source": [
    "# 整理資料，變成表格\n",
    "df = pd.read_csv(StringIO(r.text.replace(\"=\", \"\")), \n",
    "            header=[\"證券代號\" in l for l in r.text.split(\"\\n\")].index(True)-1)\n",
    "\n",
    "# 整理一些字串：\n",
    "df = df.apply(lambda s: s.astype(str).str.replace(\",\", \"\").replace(\"+\", \"1\").replace(\"-\", \"-1\"))\n",
    "\n",
    "# 顯示出來\n"
   ]
  },
  {
   "cell_type": "code",
   "execution_count": null,
   "metadata": {},
   "outputs": [],
   "source": [
    "df = df.set_index(\"證券代號\")\n",
    "df.drop(\"Unnamed: 16\", axis=1, inplace=True)"
   ]
  },
  {
   "cell_type": "code",
   "execution_count": null,
   "metadata": {},
   "outputs": [],
   "source": [
    "df.head()"
   ]
  },
  {
   "cell_type": "code",
   "execution_count": null,
   "metadata": {},
   "outputs": [],
   "source": [
    "df = df.astype(\n",
    "    {\n",
    "        '成交股數': np.float,\n",
    "        '成交筆數': np.float,\n",
    "        '成交金額': np.float,\n",
    "        '開盤價': np.float,\n",
    "        '最高價': np.float,\n",
    "        '最低價': np.float,\n",
    "        '收盤價': np.float,\n",
    "        '漲跌(+/-)': np.float,\n",
    "        '漲跌價差': np.float,\n",
    "        '最後揭示買價': np.float,\n",
    "        '最後揭示買量': np.float,\n",
    "        '最後揭示賣價': np.float,\n",
    "        '最後揭示賣量': np.float,\n",
    "        '本益比': np.float\n",
    "    },\n",
    "    errors='ignore')"
   ]
  },
  {
   "cell_type": "code",
   "execution_count": null,
   "metadata": {},
   "outputs": [],
   "source": [
    "df[pd.to_numeric(df['本益比'], errors='coerce')<15]"
   ]
  }
 ],
 "metadata": {
  "language_info": {
   "codemirror_mode": {
    "name": "ipython",
    "version": 3
   },
   "file_extension": ".py",
   "mimetype": "text/x-python",
   "name": "python",
   "nbconvert_exporter": "python",
   "pygments_lexer": "ipython3",
   "version": "3.6.8-final"
  },
  "orig_nbformat": 2,
  "kernelspec": {
   "name": "python36864bit368pyenv094003fb7e664aa88fbf4906ac0e54a5",
   "display_name": "Python 3.6.8 64-bit ('3.6.8': pyenv)"
  }
 },
 "nbformat": 4,
 "nbformat_minor": 2
}