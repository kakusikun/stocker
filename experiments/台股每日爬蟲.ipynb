{
 "cells": [
  {
   "cell_type": "code",
   "execution_count": 1,
   "metadata": {},
   "outputs": [],
   "source": [
    "import requests\n",
    "from io import StringIO\n",
    "import pandas as pd\n",
    "import numpy as np"
   ]
  },
  {
   "cell_type": "code",
   "execution_count": 2,
   "metadata": {},
   "outputs": [],
   "source": [
    "import datetime\n",
    "DAY = datetime.timedelta(1)"
   ]
  },
  {
   "cell_type": "code",
   "execution_count": 3,
   "metadata": {},
   "outputs": [],
   "source": [
    "def Day_Stock(date_str):\n",
    "    r = requests.post('https://www.twse.com.tw/exchangeReport/MI_INDEX?response=csv&date=' + date_str + '&type=ALL')\n",
    "    df = pd.read_csv(StringIO(r.text.replace(\"=\", \"\")), header=[\"證券代號\" in l for l in r.text.split(\"\\n\")].index(True)-1)\n",
    "    df = df.apply(lambda s: s.astype(str).str.replace(\",\", \"\").replace(\"+\", \"1\").replace(\"-\", \"-1\"))\n",
    "    df = df.set_index(\"證券代號\")\n",
    "    df.drop(\"Unnamed: 16\", axis=1, inplace=True)\n",
    "    return df"
   ]
  },
  {
   "cell_type": "code",
   "execution_count": 4,
   "metadata": {},
   "outputs": [],
   "source": [
    "dfs = {}\n",
    "for i in range(7):\n",
    "    target_date = datetime.datetime.now() - i * DAY\n",
    "    weekday = target_date.strftime('%w')\n",
    "    target_date_str = target_date.strftime('%Y%m%d')\n",
    "    if weekday not in ['0', '6']:\n",
    "        dfs[target_date_str] = Day_Stock(target_date_str)"
   ]
  },
  {
   "cell_type": "code",
   "execution_count": 5,
   "metadata": {},
   "outputs": [],
   "source": [
    "target = {}\n",
    "for date in dfs:\n",
    "    target[date] = dfs[date].loc['0050']"
   ]
  },
  {
   "cell_type": "code",
   "execution_count": 6,
   "metadata": {},
   "outputs": [],
   "source": [
    "target_df = pd.DataFrame(target).transpose()"
   ]
  },
  {
   "cell_type": "code",
   "execution_count": 7,
   "metadata": {},
   "outputs": [
    {
     "output_type": "execute_result",
     "data": {
      "text/plain": "              證券名稱      成交股數  成交筆數        成交金額    開盤價    最高價    最低價    收盤價  \\\n2020-06-09  元大台灣50  11356579  4738  1016232445  89.60  89.80  88.95  89.60   \n2020-06-08  元大台灣50  15549542  7617  1388746538  88.90  89.80  88.80  89.50   \n2020-06-05  元大台灣50   9916582  5501   873460722  87.70  88.35  87.70  88.35   \n2020-06-04  元大台灣50  15036553  6182  1315498861  87.50  87.75  87.15  87.60   \n2020-06-03  元大台灣50  18117244  7251  1567235805  86.15  86.90  86.10  86.80   \n\n           漲跌(+/-)  漲跌價差 最後揭示買價 最後揭示買量 最後揭示賣價 最後揭示賣量   本益比  \n2020-06-09       1   0.1  89.60    235  89.65     44  0.00  \n2020-06-08       1  1.15  89.45     19  89.50    230  0.00  \n2020-06-05       1  0.75  88.30    624  88.35    191  0.00  \n2020-06-04       1   0.8  87.55    720  87.60     45  0.00  \n2020-06-03       1   1.5  86.75    535  86.80     20  0.00  ",
      "text/html": "<div>\n<style scoped>\n    .dataframe tbody tr th:only-of-type {\n        vertical-align: middle;\n    }\n\n    .dataframe tbody tr th {\n        vertical-align: top;\n    }\n\n    .dataframe thead th {\n        text-align: right;\n    }\n</style>\n<table border=\"1\" class=\"dataframe\">\n  <thead>\n    <tr style=\"text-align: right;\">\n      <th></th>\n      <th>證券名稱</th>\n      <th>成交股數</th>\n      <th>成交筆數</th>\n      <th>成交金額</th>\n      <th>開盤價</th>\n      <th>最高價</th>\n      <th>最低價</th>\n      <th>收盤價</th>\n      <th>漲跌(+/-)</th>\n      <th>漲跌價差</th>\n      <th>最後揭示買價</th>\n      <th>最後揭示買量</th>\n      <th>最後揭示賣價</th>\n      <th>最後揭示賣量</th>\n      <th>本益比</th>\n    </tr>\n  </thead>\n  <tbody>\n    <tr>\n      <th>2020-06-09</th>\n      <td>元大台灣50</td>\n      <td>11356579</td>\n      <td>4738</td>\n      <td>1016232445</td>\n      <td>89.60</td>\n      <td>89.80</td>\n      <td>88.95</td>\n      <td>89.60</td>\n      <td>1</td>\n      <td>0.1</td>\n      <td>89.60</td>\n      <td>235</td>\n      <td>89.65</td>\n      <td>44</td>\n      <td>0.00</td>\n    </tr>\n    <tr>\n      <th>2020-06-08</th>\n      <td>元大台灣50</td>\n      <td>15549542</td>\n      <td>7617</td>\n      <td>1388746538</td>\n      <td>88.90</td>\n      <td>89.80</td>\n      <td>88.80</td>\n      <td>89.50</td>\n      <td>1</td>\n      <td>1.15</td>\n      <td>89.45</td>\n      <td>19</td>\n      <td>89.50</td>\n      <td>230</td>\n      <td>0.00</td>\n    </tr>\n    <tr>\n      <th>2020-06-05</th>\n      <td>元大台灣50</td>\n      <td>9916582</td>\n      <td>5501</td>\n      <td>873460722</td>\n      <td>87.70</td>\n      <td>88.35</td>\n      <td>87.70</td>\n      <td>88.35</td>\n      <td>1</td>\n      <td>0.75</td>\n      <td>88.30</td>\n      <td>624</td>\n      <td>88.35</td>\n      <td>191</td>\n      <td>0.00</td>\n    </tr>\n    <tr>\n      <th>2020-06-04</th>\n      <td>元大台灣50</td>\n      <td>15036553</td>\n      <td>6182</td>\n      <td>1315498861</td>\n      <td>87.50</td>\n      <td>87.75</td>\n      <td>87.15</td>\n      <td>87.60</td>\n      <td>1</td>\n      <td>0.8</td>\n      <td>87.55</td>\n      <td>720</td>\n      <td>87.60</td>\n      <td>45</td>\n      <td>0.00</td>\n    </tr>\n    <tr>\n      <th>2020-06-03</th>\n      <td>元大台灣50</td>\n      <td>18117244</td>\n      <td>7251</td>\n      <td>1567235805</td>\n      <td>86.15</td>\n      <td>86.90</td>\n      <td>86.10</td>\n      <td>86.80</td>\n      <td>1</td>\n      <td>1.5</td>\n      <td>86.75</td>\n      <td>535</td>\n      <td>86.80</td>\n      <td>20</td>\n      <td>0.00</td>\n    </tr>\n  </tbody>\n</table>\n</div>"
     },
     "metadata": {},
     "execution_count": 7
    }
   ],
   "source": [
    "target_df.set_index(pd.to_datetime(target_df.index))"
   ]
  },
  {
   "cell_type": "code",
   "execution_count": null,
   "metadata": {},
   "outputs": [],
   "source": [
    "\n",
    "\n",
    "datestr = datetime.datetime.now().strftime('%Y%m%d')\n",
    "\n",
    "# 下載股價\n",
    "r = requests.post('https://www.twse.com.tw/exchangeReport/MI_INDEX?response=csv&date=' + datestr + '&type=ALL')\n",
    "\n"
   ]
  },
  {
   "cell_type": "code",
   "execution_count": null,
   "metadata": {},
   "outputs": [],
   "source": [
    "# 整理資料，變成表格\n",
    "df = pd.read_csv(StringIO(r.text.replace(\"=\", \"\")), \n",
    "            header=[\"證券代號\" in l for l in r.text.split(\"\\n\")].index(True)-1)\n",
    "\n",
    "# 整理一些字串：\n",
    "df = df.apply(lambda s: s.astype(str).str.replace(\",\", \"\").replace(\"+\", \"1\").replace(\"-\", \"-1\"))\n",
    "\n",
    "# 顯示出來\n"
   ]
  },
  {
   "cell_type": "code",
   "execution_count": null,
   "metadata": {},
   "outputs": [],
   "source": [
    "df = df.set_index(\"證券代號\")\n",
    "df.drop(\"Unnamed: 16\", axis=1, inplace=True)"
   ]
  },
  {
   "cell_type": "code",
   "execution_count": null,
   "metadata": {},
   "outputs": [],
   "source": [
    "df.head()"
   ]
  },
  {
   "cell_type": "code",
   "execution_count": null,
   "metadata": {},
   "outputs": [],
   "source": [
    "df = df.astype(\n",
    "    {\n",
    "        '成交股數': np.float,\n",
    "        '成交筆數': np.float,\n",
    "        '成交金額': np.float,\n",
    "        '開盤價': np.float,\n",
    "        '最高價': np.float,\n",
    "        '最低價': np.float,\n",
    "        '收盤價': np.float,\n",
    "        '漲跌(+/-)': np.float,\n",
    "        '漲跌價差': np.float,\n",
    "        '最後揭示買價': np.float,\n",
    "        '最後揭示買量': np.float,\n",
    "        '最後揭示賣價': np.float,\n",
    "        '最後揭示賣量': np.float,\n",
    "        '本益比': np.float\n",
    "    },\n",
    "    errors='ignore')"
   ]
  },
  {
   "cell_type": "code",
   "execution_count": null,
   "metadata": {},
   "outputs": [],
   "source": [
    "df[pd.to_numeric(df['本益比'], errors='coerce')<15]"
   ]
  }
 ],
 "metadata": {
  "language_info": {
   "codemirror_mode": {
    "name": "ipython",
    "version": 3
   },
   "file_extension": ".py",
   "mimetype": "text/x-python",
   "name": "python",
   "nbconvert_exporter": "python",
   "pygments_lexer": "ipython3",
   "version": "3.7.6-final"
  },
  "orig_nbformat": 2,
  "kernelspec": {
   "name": "python37664bitebfe11dd887248b89b6aa10862e146c6",
   "display_name": "Python 3.7.6 64-bit"
  }
 },
 "nbformat": 4,
 "nbformat_minor": 2
}