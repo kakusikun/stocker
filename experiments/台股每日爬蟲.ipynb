{
 "cells": [
  {
   "cell_type": "code",
   "execution_count": 7,
   "metadata": {},
   "outputs": [
    {
     "name": "stderr",
     "output_type": "stream",
     "text": [
      "/home/acer/.pyenv/versions/py368/lib/python3.6/site-packages/pandas/compat/__init__.py:117: UserWarning: Could not import the lzma module. Your installed Python is incomplete. Attempting to use lzma compression will result in a RuntimeError.\n",
      "  warnings.warn(msg)\n"
     ]
    }
   ],
   "source": [
    "import requests\n",
    "from io import StringIO\n",
    "import pandas as pd\n",
    "import numpy as np\n",
    "from tqdm import tqdm\n",
    "import datetime\n",
    "import time"
   ]
  },
  {
   "cell_type": "code",
   "execution_count": 8,
   "metadata": {},
   "outputs": [],
   "source": [
    "import smtplib, ssl\n",
    "def connection():\n",
    "    email_smtp_port = 465  # For SSL\n",
    "    email_smtp_server = \"smtp.gmail.com\"\n",
    "    email_sender_username = \"robottoolkit@gmail.com\"\n",
    "    email_sender_password = \"!Robotify\"\n",
    "    # Create a secure SSL context\n",
    "    context = ssl.create_default_context()\n",
    "    server = smtplib.SMTP_SSL(email_smtp_server, email_smtp_port, context=context)\n",
    "    server.login(email_sender_username, email_sender_password)\n",
    "    return server\n",
    "\n",
    "sender_email = email_sender_username\n",
    "receiver_email = \"oo24514@gmail.com\"\n"
   ]
  },
  {
   "cell_type": "code",
   "execution_count": 9,
   "metadata": {
    "tags": []
   },
   "outputs": [
    {
     "data": {
      "application/javascript": [
       "if (!(\"Notification\" in window)) {\n",
       "    alert(\"This browser does not support desktop notifications, so the %%notify magic will not work.\");\n",
       "} else if (Notification.permission !== 'granted' && Notification.permission !== 'denied') {\n",
       "    Notification.requestPermission(function (permission) {\n",
       "        if(!('permission' in Notification)) {\n",
       "            Notification.permission = permission;\n",
       "        }\n",
       "    })\n",
       "}\n"
      ],
      "text/plain": [
       "<IPython.core.display.Javascript object>"
      ]
     },
     "metadata": {},
     "output_type": "display_data"
    }
   ],
   "source": [
    "import jupyternotify\n",
    "ip = get_ipython()\n",
    "# ip.register_magics()\n",
    "jnotify = jupyternotify.JupyterNotifyMagics(ip)"
   ]
  },
  {
   "cell_type": "code",
   "execution_count": null,
   "metadata": {
    "tags": []
   },
   "outputs": [
    {
     "data": {
      "application/javascript": [
       "$(document).ready(\n",
       "    function() {\n",
       "        function appendUniqueDiv(){\n",
       "            // append a div with our uuid so we can check that it's already\n",
       "            // been sent and avoid duplicates on page reload\n",
       "            var notifiedDiv = document.createElement(\"div\")\n",
       "            notifiedDiv.id = \"f49dbf2a-0191-4bd8-99f0-710162a17b9d\"\n",
       "            element.append(notifiedDiv)\n",
       "        }\n",
       "\n",
       "        // only send notifications if the pageload is complete; this will\n",
       "        // help stop extra notifications when a saved notebook is loaded,\n",
       "        // which during testing gives us state \"interactive\", not \"complete\"\n",
       "        if (document.readyState === 'complete') {\n",
       "            // check for the div that signifies that the notification\n",
       "            // was already sent\n",
       "            if (document.getElementById(\"f49dbf2a-0191-4bd8-99f0-710162a17b9d\") === null) {\n",
       "                var notificationPayload = {\"requireInteraction\": false, \"icon\": \"/static/base/images/favicon.ico\", \"body\": \"Minimum,29.535\"};\n",
       "                if (Notification.permission !== 'denied') {\n",
       "                    if (Notification.permission !== 'granted') { \n",
       "                        Notification.requestPermission(function (permission) {\n",
       "                            if(!('permission' in Notification)) {\n",
       "                                Notification.permission = permission\n",
       "                            }\n",
       "                        })\n",
       "                    }\n",
       "                    if (Notification.permission === 'granted') {\n",
       "                    var notification = new Notification(\"Jupyter Notebook\", notificationPayload)\n",
       "                    appendUniqueDiv()\n",
       "                    notification.onclick = function () {\n",
       "                        window.focus();\n",
       "                        this.close();\n",
       "                        };\n",
       "                    } \n",
       "                }     \n",
       "            }\n",
       "        }\n",
       "    }\n",
       ")\n"
      ],
      "text/plain": [
       "<IPython.core.display.Javascript object>"
      ]
     },
     "metadata": {},
     "output_type": "display_data"
    },
    {
     "data": {
      "application/javascript": [
       "$(document).ready(\n",
       "    function() {\n",
       "        function appendUniqueDiv(){\n",
       "            // append a div with our uuid so we can check that it's already\n",
       "            // been sent and avoid duplicates on page reload\n",
       "            var notifiedDiv = document.createElement(\"div\")\n",
       "            notifiedDiv.id = \"3eb49fae-fd49-4871-b3f6-b463b4ec2d22\"\n",
       "            element.append(notifiedDiv)\n",
       "        }\n",
       "\n",
       "        // only send notifications if the pageload is complete; this will\n",
       "        // help stop extra notifications when a saved notebook is loaded,\n",
       "        // which during testing gives us state \"interactive\", not \"complete\"\n",
       "        if (document.readyState === 'complete') {\n",
       "            // check for the div that signifies that the notification\n",
       "            // was already sent\n",
       "            if (document.getElementById(\"3eb49fae-fd49-4871-b3f6-b463b4ec2d22\") === null) {\n",
       "                var notificationPayload = {\"requireInteraction\": false, \"icon\": \"/static/base/images/favicon.ico\", \"body\": \"Maximum,29.535\"};\n",
       "                if (Notification.permission !== 'denied') {\n",
       "                    if (Notification.permission !== 'granted') { \n",
       "                        Notification.requestPermission(function (permission) {\n",
       "                            if(!('permission' in Notification)) {\n",
       "                                Notification.permission = permission\n",
       "                            }\n",
       "                        })\n",
       "                    }\n",
       "                    if (Notification.permission === 'granted') {\n",
       "                    var notification = new Notification(\"Jupyter Notebook\", notificationPayload)\n",
       "                    appendUniqueDiv()\n",
       "                    notification.onclick = function () {\n",
       "                        window.focus();\n",
       "                        this.close();\n",
       "                        };\n",
       "                    } \n",
       "                }     \n",
       "            }\n",
       "        }\n",
       "    }\n",
       ")\n"
      ],
      "text/plain": [
       "<IPython.core.display.Javascript object>"
      ]
     },
     "metadata": {},
     "output_type": "display_data"
    },
    {
     "data": {
      "application/javascript": [
       "$(document).ready(\n",
       "    function() {\n",
       "        function appendUniqueDiv(){\n",
       "            // append a div with our uuid so we can check that it's already\n",
       "            // been sent and avoid duplicates on page reload\n",
       "            var notifiedDiv = document.createElement(\"div\")\n",
       "            notifiedDiv.id = \"493cc044-0029-4c87-8147-71fcb5e8e3ff\"\n",
       "            element.append(notifiedDiv)\n",
       "        }\n",
       "\n",
       "        // only send notifications if the pageload is complete; this will\n",
       "        // help stop extra notifications when a saved notebook is loaded,\n",
       "        // which during testing gives us state \"interactive\", not \"complete\"\n",
       "        if (document.readyState === 'complete') {\n",
       "            // check for the div that signifies that the notification\n",
       "            // was already sent\n",
       "            if (document.getElementById(\"493cc044-0029-4c87-8147-71fcb5e8e3ff\") === null) {\n",
       "                var notificationPayload = {\"requireInteraction\": false, \"icon\": \"/static/base/images/favicon.ico\", \"body\": \"29.535_0.0000_0.0000\"};\n",
       "                if (Notification.permission !== 'denied') {\n",
       "                    if (Notification.permission !== 'granted') { \n",
       "                        Notification.requestPermission(function (permission) {\n",
       "                            if(!('permission' in Notification)) {\n",
       "                                Notification.permission = permission\n",
       "                            }\n",
       "                        })\n",
       "                    }\n",
       "                    if (Notification.permission === 'granted') {\n",
       "                    var notification = new Notification(\"Jupyter Notebook\", notificationPayload)\n",
       "                    appendUniqueDiv()\n",
       "                    notification.onclick = function () {\n",
       "                        window.focus();\n",
       "                        this.close();\n",
       "                        };\n",
       "                    } \n",
       "                }     \n",
       "            }\n",
       "        }\n",
       "    }\n",
       ")\n"
      ],
      "text/plain": [
       "<IPython.core.display.Javascript object>"
      ]
     },
     "metadata": {},
     "output_type": "display_data"
    }
   ],
   "source": [
    "target = 29.50\n",
    "minimum = 100.0\n",
    "maximum = 0.0\n",
    "start = time.time()\n",
    "while True:\n",
    "    r = requests.get('https://www.fubon.com/Fubon_Portal/banking/Personal/deposit/exchange_rate/exchange_rate1.jsp')\n",
    "    exchange = float(pd.read_html(StringIO(r.text))[0].loc[0]['即期銀行買入銀行賣出'].split(' ')[-1])\n",
    "    if exchange <= target:\n",
    "        info = f\"!!!!!{exchange}\"\n",
    "        jnotify.notify(f\"-m {info}\")\n",
    "        \n",
    "        message = f\"\"\"\\\n",
    "        Subject: Exchange\n",
    "\n",
    "        target {exchange} \n",
    "        minimum {minimum} \n",
    "        maximum {maximum}.\n",
    "        \"\"\"\n",
    "        if minimum > exchange:\n",
    "            try:\n",
    "                server.sendmail(sender_email, receiver_email, message)\n",
    "            except:\n",
    "                server = connection()\n",
    "                server.sendmail(sender_email, receiver_email, message)\n",
    "    if exchange < minimum:\n",
    "        info = f\"Minimum,{exchange}\"\n",
    "        jnotify.notify(f\"-m {info}\")\n",
    "        minimum = exchange\n",
    "    if exchange > maximum:\n",
    "        info = f\"Maximum,{exchange}\"\n",
    "        jnotify.notify(f\"-m {info}\")\n",
    "        maximum = exchange\n",
    "    time.sleep(10)\n",
    "    if time.time() - start > 60:\n",
    "        jnotify.notify(f\"-m {exchange}_{minimum-exchange:.4f}_{maximum-exchange:.4f}\")\n",
    "        start = time.time()\n"
   ]
  },
  {
   "cell_type": "code",
   "execution_count": 20,
   "metadata": {},
   "outputs": [
    {
     "data": {
      "text/plain": [
       "5906.3"
      ]
     },
     "execution_count": 20,
     "metadata": {},
     "output_type": "execute_result"
    }
   ],
   "source": [
    "29.5315*200"
   ]
  },
  {
   "cell_type": "code",
   "execution_count": null,
   "metadata": {},
   "outputs": [],
   "source": [
    "import finlab"
   ]
  },
  {
   "cell_type": "code",
   "execution_count": null,
   "metadata": {},
   "outputs": [],
   "source": [
    "df = finlab.data.get(\"每股盈餘\")"
   ]
  },
  {
   "cell_type": "code",
   "execution_count": null,
   "metadata": {},
   "outputs": [],
   "source": [
    "df.loc['2019-08':]['3046'].sum()"
   ]
  },
  {
   "cell_type": "code",
   "execution_count": null,
   "metadata": {},
   "outputs": [],
   "source": [
    "for col in df.columns:\n",
    "    if len(col) > 4:\n",
    "        print(col)"
   ]
  },
  {
   "cell_type": "code",
   "execution_count": null,
   "metadata": {},
   "outputs": [],
   "source": [
    "finlab.backtest(5)"
   ]
  },
  {
   "cell_type": "code",
   "execution_count": null,
   "metadata": {},
   "outputs": [],
   "source": [
    "dir(finlab)"
   ]
  },
  {
   "cell_type": "code",
   "execution_count": null,
   "metadata": {},
   "outputs": [],
   "source": [
    "https://www.fubon.com/Fubon_Portal/banking/Personal/deposit/exchange_rate/exchange_rate1.jsp"
   ]
  },
  {
   "cell_type": "code",
   "execution_count": null,
   "metadata": {},
   "outputs": [],
   "source": [
    " \n",
    "import notify2\n",
    "\n",
    "def popUpMessage(title, message):\n",
    "    print(\"Initializing pynotify\")\n",
    "    pynotify.init(\"Scorer\")\n",
    "    pynotify.Notification(title, message, \"dialog-information\").show()"
   ]
  },
  {
   "cell_type": "code",
   "execution_count": null,
   "metadata": {
    "tags": []
   },
   "outputs": [],
   "source": [
    "popUpMessage(\"13\", \"buybuybuy\")"
   ]
  },
  {
   "cell_type": "code",
   "execution_count": null,
   "metadata": {},
   "outputs": [],
   "source": [
    "r.text.replace(\"\\t\", \"\").split(\"\\n\")"
   ]
  },
  {
   "cell_type": "code",
   "execution_count": null,
   "metadata": {},
   "outputs": [],
   "source": [
    "def Day_Stock(date_str):\n",
    "    r = requests.post('https://www.twse.com.tw/exchangeReport/MI_INDEX?response=csv&date=' + date_str + '&type=ALL')\n",
    "    df = pd.read_csv(StringIO(r.text.replace(\"=\", \"\")), header=[\"證券代號\" in l for l in r.text.split(\"\\n\")].index(True)-1)\n",
    "    df = df.apply(lambda s: s.astype(str).str.replace(\",\", \"\").replace(\"+\", \"1\").replace(\"-\", \"-1\"))\n",
    "    df = df.set_index(\"證券代號\")\n",
    "    df.drop(\"Unnamed: 16\", axis=1, inplace=True)\n",
    "    df.drop(index=[col for col in df.index if len(col) > 4], errors='ignore', inplace=True)\n",
    "    return df\n",
    "\n",
    "def to_timeseries(df_dict, colname):\n",
    "    df_timeseries = []\n",
    "    for target_date_str in df_dict:\n",
    "        target_df = df_dict[target_date_str][[colname]].transpose()\n",
    "        target_df = target_df.rename(index={colname: target_date_str})\n",
    "        target_df.set_index(pd.to_datetime(target_df.index))\n",
    "        df_timeseries.append(target_df)\n",
    "    df_timeseries = pd.concat(df_timeseries)\n",
    "    df_timeseries = df_timeseries.set_index(pd.to_datetime(df_timeseries.index))\n",
    "    return df_timeseries\n",
    "\n",
    "def save_daily_data(start, num_day=None, pack=0, merge=True):\n",
    "    now = datetime.datetime.now()\n",
    "    y, m, d = [i for i in map(int, start.split(\"-\"))]\n",
    "    start = datetime.datetime(y, m, d)\n",
    "    if num_day is None:\n",
    "        num_day = max(now.day - start.day, 1)\n",
    "    DAY = datetime.timedelta(1)\n",
    "    dfs = {}\n",
    "    for i in range(num_day):\n",
    "        progress = '.' * (i + 1)\n",
    "        print(f\"\\rCrawling {progress}\", end=\"\")\n",
    "        zzz = np.random.randint(5,10)\n",
    "        time.sleep(zzz)\n",
    "        target_date = start + i * DAY\n",
    "        if target_date > now:\n",
    "            break\n",
    "        weekday = target_date.strftime('%w')\n",
    "        target_date_str = target_date.strftime('%Y%m%d')\n",
    "        if weekday not in ['0', '6']:\n",
    "            if target_date == now and now.hour <= 14:\n",
    "                continue\n",
    "            try:\n",
    "                _df = Day_Stock(target_date_str)\n",
    "            except ValueError:\n",
    "                print(target_date_str)\n",
    "                continue\n",
    "            dfs[target_date_str] = _df\n",
    "    total_df = []\n",
    "    for col in ['最高價', '最低價', '收盤價', '本益比', '成交股數']:\n",
    "        print(f\"\\rSaving {col}                      \", end=\"\")\n",
    "        if pack:\n",
    "            fname = os.path.join(os.getcwd(), \"..\", \"data\", f\"{col}{pack:03}.pkl\")\n",
    "        else:\n",
    "            fname = os.path.join(os.getcwd(), \"..\", \"data\", f\"{col}.pkl\")\n",
    "        df = to_timeseries(dfs, col)\n",
    "        if os.path.exists(fname) and merge:\n",
    "            _df = pd.read_pickle(fname)\n",
    "            df = pd.concat([df, _df])\n",
    "        df.drop_duplicates().to_pickle(fname)\n",
    "\n",
    "def get_data(name, pack=0):\n",
    "    if pack:\n",
    "        fname = os.path.join(os.getcwd(), \"..\", \"data\", f\"{name}{pack:03}.pkl\")\n",
    "    else:\n",
    "        fname = os.path.join(os.getcwd(), \"..\", \"data\", f\"{name}.pkl\")\n",
    "    assert os.path.exists(fname), f\"{fname} does not exist.\"\n",
    "    df = pd.read_pickle(fname)\n",
    "    return df\n"
   ]
  },
  {
   "cell_type": "code",
   "execution_count": null,
   "metadata": {},
   "outputs": [],
   "source": [
    "temp = get_data('本益比')\n",
    "temp"
   ]
  },
  {
   "cell_type": "code",
   "execution_count": null,
   "metadata": {},
   "outputs": [],
   "source": [
    "save_daily_data('2020-06-10', 1)"
   ]
  },
  {
   "cell_type": "code",
   "execution_count": null,
   "metadata": {},
   "outputs": [],
   "source": [
    "pd.read_pickle(fname)"
   ]
  },
  {
   "cell_type": "code",
   "execution_count": null,
   "metadata": {},
   "outputs": [],
   "source": [
    "start = datetime.datetime(2020,6,1) + 5 * DAY\n",
    "start"
   ]
  },
  {
   "cell_type": "code",
   "execution_count": null,
   "metadata": {},
   "outputs": [],
   "source": [
    "start = datetime.datetime(2015,1,1)"
   ]
  },
  {
   "cell_type": "code",
   "execution_count": null,
   "metadata": {},
   "outputs": [],
   "source": [
    "start - datetime.datetime.now()"
   ]
  },
  {
   "cell_type": "code",
   "execution_count": null,
   "metadata": {},
   "outputs": [],
   "source": [
    "start = datetime.datetime(2015,1,1)\n",
    "DAY = datetime.timedelta(1) \n",
    "num_day = 1\n",
    "pack = 1\n",
    "while start <= datetime.datetime.now():\n",
    "    # print(start)\n",
    "    if (num_day % 39 == 0 and num_day != 0):\n",
    "        # print(start - (num_day-1) * DAY)\n",
    "        save_daily_data((start - (num_day+1) * DAY).strftime('%Y-%m-%d'), num_day=num_day, pack=pack, merge=False)\n",
    "        num_day = 0\n",
    "        pack += 1\n",
    "    start += DAY\n",
    "    \n",
    "    num_day += 1\n"
   ]
  },
  {
   "cell_type": "code",
   "execution_count": null,
   "metadata": {},
   "outputs": [],
   "source": [
    "start.strftime('%Y%m%d')"
   ]
  },
  {
   "cell_type": "code",
   "execution_count": null,
   "metadata": {},
   "outputs": [],
   "source": [
    "start + datetime.timedelta(1) * (end - start).days"
   ]
  },
  {
   "cell_type": "code",
   "execution_count": null,
   "metadata": {},
   "outputs": [],
   "source": [
    "start = '2020-06-15'\n",
    "start = start.split(\"-\")"
   ]
  },
  {
   "cell_type": "code",
   "execution_count": null,
   "metadata": {},
   "outputs": [],
   "source": [
    "[i for i in map(int, start)]"
   ]
  },
  {
   "cell_type": "code",
   "execution_count": null,
   "metadata": {},
   "outputs": [],
   "source": [
    "import os"
   ]
  },
  {
   "cell_type": "code",
   "execution_count": null,
   "metadata": {},
   "outputs": [],
   "source": [
    "root = os.getcwd()\n",
    "root"
   ]
  },
  {
   "cell_type": "code",
   "execution_count": null,
   "metadata": {},
   "outputs": [],
   "source": [
    "for df, col in zip(total_df, ['最高價', '最低價', '收盤價', '本益比', '成交股數']):\n",
    "    df.to_pickle(os.path.join(os.getcwd(), \"..\", \"data\", f\"{col}.pkl\"))"
   ]
  },
  {
   "cell_type": "code",
   "execution_count": null,
   "metadata": {},
   "outputs": [],
   "source": [
    "df = pd.read_pickle(os.path.join(os.getcwd(), \"..\", \"data\", f\"{col}.pkl\"))"
   ]
  },
  {
   "cell_type": "code",
   "execution_count": null,
   "metadata": {},
   "outputs": [],
   "source": [
    "df"
   ]
  },
  {
   "cell_type": "code",
   "execution_count": null,
   "metadata": {},
   "outputs": [],
   "source": [
    "df.set_index(pd.to_datetime(df.index))"
   ]
  },
  {
   "cell_type": "code",
   "execution_count": null,
   "metadata": {},
   "outputs": [],
   "source": [
    "peratio"
   ]
  },
  {
   "cell_type": "code",
   "execution_count": null,
   "metadata": {},
   "outputs": [],
   "source": [
    "pd.to_datetime(peratio.index)"
   ]
  },
  {
   "cell_type": "code",
   "execution_count": null,
   "metadata": {},
   "outputs": [],
   "source": [
    "peratio = dfs[target_date_str][['本益比']].transpose()\n",
    "peratio = peratio.rename(index={'本益比': target_date_str})\n",
    "peratio.set_index(pd.to_datetime(peratio.index))"
   ]
  },
  {
   "cell_type": "code",
   "execution_count": null,
   "metadata": {},
   "outputs": [],
   "source": []
  },
  {
   "cell_type": "code",
   "execution_count": null,
   "metadata": {},
   "outputs": [],
   "source": [
    "peratio = dfs[target_date_str][['本益比']].transpose()"
   ]
  },
  {
   "cell_type": "code",
   "execution_count": null,
   "metadata": {},
   "outputs": [],
   "source": []
  },
  {
   "cell_type": "code",
   "execution_count": null,
   "metadata": {},
   "outputs": [],
   "source": [
    "target = {}\n",
    "for date in dfs:\n",
    "    target[date] = dfs[date].loc['0050']"
   ]
  },
  {
   "cell_type": "code",
   "execution_count": null,
   "metadata": {},
   "outputs": [],
   "source": [
    "target_df = pd.DataFrame(target).transpose()"
   ]
  },
  {
   "cell_type": "code",
   "execution_count": null,
   "metadata": {},
   "outputs": [],
   "source": [
    "target_df.set_index(pd.to_datetime(target_df.index))"
   ]
  },
  {
   "cell_type": "code",
   "execution_count": null,
   "metadata": {},
   "outputs": [],
   "source": [
    "\n",
    "\n",
    "datestr = datetime.datetime.now().strftime('%Y%m%d')\n",
    "\n",
    "# 下載股價\n",
    "r = requests.post('https://www.twse.com.tw/exchangeReport/MI_INDEX?response=csv&date=' + datestr + '&type=ALL')\n",
    "\n"
   ]
  },
  {
   "cell_type": "code",
   "execution_count": null,
   "metadata": {},
   "outputs": [],
   "source": [
    "# 整理資料，變成表格\n",
    "df = pd.read_csv(StringIO(r.text.replace(\"=\", \"\")), \n",
    "            header=[\"證券代號\" in l for l in r.text.split(\"\\n\")].index(True)-1)\n",
    "\n",
    "# 整理一些字串：\n",
    "df = df.apply(lambda s: s.astype(str).str.replace(\",\", \"\").replace(\"+\", \"1\").replace(\"-\", \"-1\"))\n",
    "\n",
    "# 顯示出來\n"
   ]
  },
  {
   "cell_type": "code",
   "execution_count": null,
   "metadata": {},
   "outputs": [],
   "source": [
    "df = df.set_index(\"證券代號\")\n",
    "df.drop(\"Unnamed: 16\", axis=1, inplace=True)"
   ]
  },
  {
   "cell_type": "code",
   "execution_count": null,
   "metadata": {},
   "outputs": [],
   "source": [
    "df.head()"
   ]
  },
  {
   "cell_type": "code",
   "execution_count": null,
   "metadata": {},
   "outputs": [],
   "source": [
    "df = df.astype(\n",
    "    {\n",
    "        '成交股數': np.float,\n",
    "        '成交筆數': np.float,\n",
    "        '成交金額': np.float,\n",
    "        '開盤價': np.float,\n",
    "        '最高價': np.float,\n",
    "        '最低價': np.float,\n",
    "        '收盤價': np.float,\n",
    "        '漲跌(+/-)': np.float,\n",
    "        '漲跌價差': np.float,\n",
    "        '最後揭示買價': np.float,\n",
    "        '最後揭示買量': np.float,\n",
    "        '最後揭示賣價': np.float,\n",
    "        '最後揭示賣量': np.float,\n",
    "        '本益比': np.float\n",
    "    },\n",
    "    errors='ignore')"
   ]
  },
  {
   "cell_type": "code",
   "execution_count": null,
   "metadata": {},
   "outputs": [],
   "source": [
    "df[pd.to_numeric(df['本益比'], errors='coerce')<15]"
   ]
  }
 ],
 "metadata": {
  "kernelspec": {
   "display_name": "Python 3.6.8 64-bit ('py368': venv)",
   "language": "python",
   "name": "python36864bitpy368venv96aa759879e8443787e614586faca138"
  },
  "language_info": {
   "codemirror_mode": {
    "name": "ipython",
    "version": 3
   },
   "file_extension": ".py",
   "mimetype": "text/x-python",
   "name": "python",
   "nbconvert_exporter": "python",
   "pygments_lexer": "ipython3",
   "version": "3.6.8"
  }
 },
 "nbformat": 4,
 "nbformat_minor": 2
}
