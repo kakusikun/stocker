{
 "cells": [
  {
   "cell_type": "code",
   "execution_count": 1,
   "metadata": {},
   "outputs": [],
   "source": [
    "import pandas as pd\n",
    "import requests\n",
    "import numpy as np\n",
    "from io import StringIO\n",
    "import time\n",
    "from datetime import datetime, timedelta\n",
    "import calendar\n",
    "import datetime as dt\n",
    "from functools import reduce\n",
    "import json\n",
    "import os\n",
    "from collections import Counter"
   ]
  },
  {
   "cell_type": "code",
   "execution_count": 2,
   "metadata": {},
   "outputs": [],
   "source": [
    "class FinRatio():\n",
    "    m_mapping = {'上市':'sii','上櫃':'otc'}\n",
    "    base_url = 'https://mops.twse.com.tw/mops/web/'\n",
    "    after_ifrs_mapping = {\n",
    "        '營益分析':base_url+'t163sb06',\n",
    "        '財務結構分析':base_url+'t51sb02'\n",
    "    }\n",
    "    before_ifrs_mapping = {\n",
    "        '營益分析':base_url+'t51sb06',\n",
    "        '財務結構分析':base_url+'ajax_t51sb02'\n",
    "    }\n",
    "\n",
    "    def __init__(self, market, year, season, table):\n",
    "        self.year =  year if year < 1000 else year-1911\n",
    "        self.season = '0'+str(season) if type(season)==int else season\n",
    "        self.market = self.m_mapping[market] if market in self.m_mapping else None\n",
    "        self.table = table\n",
    "        table_mapping = self.after_ifrs_mapping if year>=102 else self.before_ifrs_mapping\n",
    "        self.url = table_mapping[self.table] if self.table in table_mapping else None\n",
    "\n",
    "    def get_raw(self):\n",
    "        form = {\n",
    "            'encodeURIComponent':1,\n",
    "            'step':1,\n",
    "            'firstin':1,\n",
    "            'off':1,\n",
    "            'TYPEK':self.market,\n",
    "            'year':str(self.year),\n",
    "            'season':self.season\n",
    "        }\n",
    "        form['ifrs'] = 'Y' if self.year >= 102 else 'N'            \n",
    "        headers = {'User-Agent': 'Mozilla/5.0 (Macintosh; Intel Mac OS X 10_10_1) \\\n",
    "                    AppleWebKit/537.36 (KHTML, like Gecko) Chrome/39.0.2171.95 Safari/537.36'}\n",
    "        r = requests.post(self.url, form, headers=headers)\n",
    "        r.encoding = 'utf8'\n",
    "        dfs = pd.read_html(StringIO(r.text))\n",
    "        self.raw = dfs\n",
    "\n",
    "    def parse(self):\n",
    "        if self.table=='營益分析':\n",
    "            dfs = [i for i in self.raw if i.shape[0]>5]\n",
    "            dfs = [i for i in dfs if i.shape[1]>5]\n",
    "            self.data = None\n",
    "            if len(dfs) != 0:\n",
    "                data = dfs[0]\n",
    "                data.columns = ['公司代號','公司名稱','營業收入(百萬元)','毛利率(%)','營業利益率(%)','稅前純益率(%)','稅後純益率(%)']\n",
    "                data = data[data['公司代號']!='公司代號']\n",
    "                data = data.reset_index().drop('index', axis=1)\n",
    "                data['財報年度'] = f\"{self.year+1911}-{self.season}\"\n",
    "                self.data = data\n",
    "\n",
    "        elif self.table=='財務結構分析':\n",
    "            dfs = [i for i in self.raw if i.shape[0]>5]\n",
    "            dfs = [i for i in dfs if i.shape[1]>5]\n",
    "            self.data = None\n",
    "            if len(dfs) != 0:\n",
    "                data = dfs[0]\n",
    "                data.columns = data.columns.get_level_values(1)\n",
    "                data = data[data['公司代號']!='公司代號']\n",
    "                data = data.reset_index().drop('index', axis=1)\n",
    "                data.rename(columns={'股東權益報酬率(%)':'權益報酬率(%)'\n",
    "                                    ,'不動產、廠房及設備週轉率(次)':'固定資產週轉率(次)'\n",
    "                                    ,'負債佔資產比率(%)':'負債比率(%)'\n",
    "                                    ,'公司簡稱':'公司名稱'}, inplace=True)\n",
    "                data['財報年度'] = self.year+1911 #yyyy\n",
    "                # if self.smp==True :\n",
    "                #     clms = list(data.columns)\n",
    "                #     clms = [i for i in clms if i not in \\\n",
    "                #            ['平均收現日數','平均售貨日數','平均銷貨日數'\n",
    "                #             ,'長期資金佔不動產、廠房及設備比率(%)','純益率(%)','長期資金佔固定資產比率(%)'\n",
    "                #             ,'應收款項收現日數','稅前純益佔實收資本比率(%)','營業利益佔實收資本比率(%)']]\n",
    "                #     data = data[clms]\n",
    "                self.data = data"
   ]
  },
  {
   "cell_type": "code",
   "execution_count": 45,
   "metadata": {},
   "outputs": [
    {
     "output_type": "execute_result",
     "data": {
      "text/plain": "{'營益分析': 'https://mops.twse.com.tw/mops/web/t163sb06',\n '財務結構分析': 'https://mops.twse.com.tw/mops/web/t51sb02'}"
     },
     "metadata": {},
     "execution_count": 45
    }
   ],
   "source": [
    "FinRatio.after_ifrs_mapping"
   ]
  },
  {
   "cell_type": "code",
   "execution_count": 3,
   "metadata": {},
   "outputs": [],
   "source": [
    "fin_ratio = FinRatio('上市', 104, 4, '營益分析')"
   ]
  },
  {
   "cell_type": "code",
   "execution_count": 7,
   "metadata": {},
   "outputs": [
    {
     "output_type": "execute_result",
     "data": {
      "text/plain": "[1, 2, 3, 4, 5, 6, 7, 8, 9, 10, 11]"
     },
     "metadata": {},
     "execution_count": 7
    }
   ],
   "source": [
    "list(range(1,12))"
   ]
  },
  {
   "cell_type": "code",
   "execution_count": 4,
   "metadata": {},
   "outputs": [],
   "source": [
    "FRs = []\n",
    "for i in range(1,4):\n",
    "    fin_ratio = FinRatio('上市', 104, i, '營益分析')\n",
    "    fin_ratio.get_raw()\n",
    "    fin_ratio.parse()\n",
    "    if fin_ratio.data is not None:\n",
    "        FRs.append(fin_ratio.data)\n",
    "    zzz = np.random.randint(5,10)\n",
    "    time.sleep(zzz)"
   ]
  },
  {
   "cell_type": "code",
   "execution_count": 6,
   "metadata": {},
   "outputs": [],
   "source": [
    "FRs = pd.concat(FRs, axis=0)"
   ]
  },
  {
   "cell_type": "code",
   "execution_count": 8,
   "metadata": {},
   "outputs": [
    {
     "output_type": "execute_result",
     "data": {
      "text/plain": "            公司代號  公司名稱 營業收入(百萬元)  毛利率(%) 營業利益率(%) 稅前純益率(%) 稅後純益率(%)     財報年度\n財報年度                                                                        \n2015-01-01  1101    台泥  21440.14   13.34     7.90     6.86     4.55  2015-01\n2015-01-01  1102    亞泥  15362.53   10.62     6.75    12.01    10.04  2015-01\n2015-01-01  1103    嘉泥    671.36  -11.27   -27.67   -31.21   -27.30  2015-01\n2015-01-01  1104    環泥   1327.43    8.30     1.85    20.32    19.73  2015-01\n2015-01-01  1108    幸福   1290.90   20.88    15.37    14.48    12.01  2015-01\n...          ...   ...       ...     ...      ...      ...      ...      ...\n2015-03-01  9944    新麗   2981.20   23.06     5.96     6.37     3.64  2015-03\n2015-03-01  9945   潤泰新   8787.50   27.74    13.40    81.40    79.97  2015-03\n2015-03-01  9946  三發地產   3247.78   29.56    21.00    21.14    14.24  2015-03\n2015-03-01  9955    佳龍   1816.70    2.00    -2.72    -2.99    -2.78  2015-03\n2015-03-01  9958   世紀鋼   2104.51   11.32     6.68     5.43     4.89  2015-03\n\n[2515 rows x 8 columns]",
      "text/html": "<div>\n<style scoped>\n    .dataframe tbody tr th:only-of-type {\n        vertical-align: middle;\n    }\n\n    .dataframe tbody tr th {\n        vertical-align: top;\n    }\n\n    .dataframe thead th {\n        text-align: right;\n    }\n</style>\n<table border=\"1\" class=\"dataframe\">\n  <thead>\n    <tr style=\"text-align: right;\">\n      <th></th>\n      <th>公司代號</th>\n      <th>公司名稱</th>\n      <th>營業收入(百萬元)</th>\n      <th>毛利率(%)</th>\n      <th>營業利益率(%)</th>\n      <th>稅前純益率(%)</th>\n      <th>稅後純益率(%)</th>\n      <th>財報年度</th>\n    </tr>\n    <tr>\n      <th>財報年度</th>\n      <th></th>\n      <th></th>\n      <th></th>\n      <th></th>\n      <th></th>\n      <th></th>\n      <th></th>\n      <th></th>\n    </tr>\n  </thead>\n  <tbody>\n    <tr>\n      <th>2015-01-01</th>\n      <td>1101</td>\n      <td>台泥</td>\n      <td>21440.14</td>\n      <td>13.34</td>\n      <td>7.90</td>\n      <td>6.86</td>\n      <td>4.55</td>\n      <td>2015-01</td>\n    </tr>\n    <tr>\n      <th>2015-01-01</th>\n      <td>1102</td>\n      <td>亞泥</td>\n      <td>15362.53</td>\n      <td>10.62</td>\n      <td>6.75</td>\n      <td>12.01</td>\n      <td>10.04</td>\n      <td>2015-01</td>\n    </tr>\n    <tr>\n      <th>2015-01-01</th>\n      <td>1103</td>\n      <td>嘉泥</td>\n      <td>671.36</td>\n      <td>-11.27</td>\n      <td>-27.67</td>\n      <td>-31.21</td>\n      <td>-27.30</td>\n      <td>2015-01</td>\n    </tr>\n    <tr>\n      <th>2015-01-01</th>\n      <td>1104</td>\n      <td>環泥</td>\n      <td>1327.43</td>\n      <td>8.30</td>\n      <td>1.85</td>\n      <td>20.32</td>\n      <td>19.73</td>\n      <td>2015-01</td>\n    </tr>\n    <tr>\n      <th>2015-01-01</th>\n      <td>1108</td>\n      <td>幸福</td>\n      <td>1290.90</td>\n      <td>20.88</td>\n      <td>15.37</td>\n      <td>14.48</td>\n      <td>12.01</td>\n      <td>2015-01</td>\n    </tr>\n    <tr>\n      <th>...</th>\n      <td>...</td>\n      <td>...</td>\n      <td>...</td>\n      <td>...</td>\n      <td>...</td>\n      <td>...</td>\n      <td>...</td>\n      <td>...</td>\n    </tr>\n    <tr>\n      <th>2015-03-01</th>\n      <td>9944</td>\n      <td>新麗</td>\n      <td>2981.20</td>\n      <td>23.06</td>\n      <td>5.96</td>\n      <td>6.37</td>\n      <td>3.64</td>\n      <td>2015-03</td>\n    </tr>\n    <tr>\n      <th>2015-03-01</th>\n      <td>9945</td>\n      <td>潤泰新</td>\n      <td>8787.50</td>\n      <td>27.74</td>\n      <td>13.40</td>\n      <td>81.40</td>\n      <td>79.97</td>\n      <td>2015-03</td>\n    </tr>\n    <tr>\n      <th>2015-03-01</th>\n      <td>9946</td>\n      <td>三發地產</td>\n      <td>3247.78</td>\n      <td>29.56</td>\n      <td>21.00</td>\n      <td>21.14</td>\n      <td>14.24</td>\n      <td>2015-03</td>\n    </tr>\n    <tr>\n      <th>2015-03-01</th>\n      <td>9955</td>\n      <td>佳龍</td>\n      <td>1816.70</td>\n      <td>2.00</td>\n      <td>-2.72</td>\n      <td>-2.99</td>\n      <td>-2.78</td>\n      <td>2015-03</td>\n    </tr>\n    <tr>\n      <th>2015-03-01</th>\n      <td>9958</td>\n      <td>世紀鋼</td>\n      <td>2104.51</td>\n      <td>11.32</td>\n      <td>6.68</td>\n      <td>5.43</td>\n      <td>4.89</td>\n      <td>2015-03</td>\n    </tr>\n  </tbody>\n</table>\n<p>2515 rows × 8 columns</p>\n</div>"
     },
     "metadata": {},
     "execution_count": 8
    }
   ],
   "source": [
    "FRs.set_index(pd.to_datetime(FRs['財報年度']))"
   ]
  },
  {
   "cell_type": "code",
   "execution_count": 27,
   "metadata": {},
   "outputs": [
    {
     "output_type": "execute_result",
     "data": {
      "text/plain": "   公司代號 公司名稱 營業收入(百萬元) 毛利率(%) 營業利益率(%) 稅前純益率(%) 稅後純益率(%)  財報年度   季\n0  1101   台泥  21440.14  13.34     7.90     6.86     4.55  2015  01\n0  1101   台泥  46434.33  14.60     9.93    10.15     7.97  2015  02\n0  1101   台泥  69118.30  14.59     9.56     8.51     6.79  2015  03\n0  1101   台泥  93679.08  15.51    10.33     9.25     7.39  2015  04",
      "text/html": "<div>\n<style scoped>\n    .dataframe tbody tr th:only-of-type {\n        vertical-align: middle;\n    }\n\n    .dataframe tbody tr th {\n        vertical-align: top;\n    }\n\n    .dataframe thead th {\n        text-align: right;\n    }\n</style>\n<table border=\"1\" class=\"dataframe\">\n  <thead>\n    <tr style=\"text-align: right;\">\n      <th></th>\n      <th>公司代號</th>\n      <th>公司名稱</th>\n      <th>營業收入(百萬元)</th>\n      <th>毛利率(%)</th>\n      <th>營業利益率(%)</th>\n      <th>稅前純益率(%)</th>\n      <th>稅後純益率(%)</th>\n      <th>財報年度</th>\n      <th>季</th>\n    </tr>\n  </thead>\n  <tbody>\n    <tr>\n      <th>0</th>\n      <td>1101</td>\n      <td>台泥</td>\n      <td>21440.14</td>\n      <td>13.34</td>\n      <td>7.90</td>\n      <td>6.86</td>\n      <td>4.55</td>\n      <td>2015</td>\n      <td>01</td>\n    </tr>\n    <tr>\n      <th>0</th>\n      <td>1101</td>\n      <td>台泥</td>\n      <td>46434.33</td>\n      <td>14.60</td>\n      <td>9.93</td>\n      <td>10.15</td>\n      <td>7.97</td>\n      <td>2015</td>\n      <td>02</td>\n    </tr>\n    <tr>\n      <th>0</th>\n      <td>1101</td>\n      <td>台泥</td>\n      <td>69118.30</td>\n      <td>14.59</td>\n      <td>9.56</td>\n      <td>8.51</td>\n      <td>6.79</td>\n      <td>2015</td>\n      <td>03</td>\n    </tr>\n    <tr>\n      <th>0</th>\n      <td>1101</td>\n      <td>台泥</td>\n      <td>93679.08</td>\n      <td>15.51</td>\n      <td>10.33</td>\n      <td>9.25</td>\n      <td>7.39</td>\n      <td>2015</td>\n      <td>04</td>\n    </tr>\n  </tbody>\n</table>\n</div>"
     },
     "metadata": {},
     "execution_count": 27
    }
   ],
   "source": [
    "FRs[FRs['公司代號']=='1101']"
   ]
  },
  {
   "cell_type": "code",
   "execution_count": 19,
   "metadata": {},
   "outputs": [],
   "source": [
    "fin_ratio.data"
   ]
  },
  {
   "cell_type": "code",
   "execution_count": 4,
   "metadata": {},
   "outputs": [],
   "source": [
    "fin_ratio.get_raw()"
   ]
  },
  {
   "cell_type": "code",
   "execution_count": 5,
   "metadata": {},
   "outputs": [],
   "source": [
    "fin_ratio.parse()"
   ]
  },
  {
   "cell_type": "code",
   "execution_count": 6,
   "metadata": {},
   "outputs": [
    {
     "output_type": "execute_result",
     "data": {
      "text/plain": "     公司代號  公司名稱 營業收入(百萬元) 毛利率(%) 營業利益率(%) 稅前純益率(%) 稅後純益率(%)  財報年度   季\n0    1101    台泥  93679.08  15.51    10.33     9.25     7.39  2015  04\n1    1102    亞泥  66287.48  10.65     6.09    10.28     7.44  2015  04\n2    1103    嘉泥   2826.52  -3.81    14.47     6.90     7.55  2015  04\n3    1104    環泥   5163.75  10.41     3.36    28.50    26.78  2015  04\n4    1108    幸福   5021.35  18.05    12.43    12.27     9.22  2015  04\n..    ...   ...       ...    ...      ...      ...      ...   ...  ..\n887  9944    新麗   3857.00  22.52     4.14     4.06     1.99  2015  04\n888  9945   潤泰新  12978.92  28.53    16.81    66.88    65.74  2015  04\n889  9946  三發地產   5014.31  29.33    20.48    20.93    14.87  2015  04\n890  9955    佳龍   2317.26  -0.60    -5.40    -5.66    -5.49  2015  04\n891  9958   世紀鋼   3025.02  12.62     8.57     7.25     6.31  2015  04\n\n[892 rows x 9 columns]",
      "text/html": "<div>\n<style scoped>\n    .dataframe tbody tr th:only-of-type {\n        vertical-align: middle;\n    }\n\n    .dataframe tbody tr th {\n        vertical-align: top;\n    }\n\n    .dataframe thead th {\n        text-align: right;\n    }\n</style>\n<table border=\"1\" class=\"dataframe\">\n  <thead>\n    <tr style=\"text-align: right;\">\n      <th></th>\n      <th>公司代號</th>\n      <th>公司名稱</th>\n      <th>營業收入(百萬元)</th>\n      <th>毛利率(%)</th>\n      <th>營業利益率(%)</th>\n      <th>稅前純益率(%)</th>\n      <th>稅後純益率(%)</th>\n      <th>財報年度</th>\n      <th>季</th>\n    </tr>\n  </thead>\n  <tbody>\n    <tr>\n      <th>0</th>\n      <td>1101</td>\n      <td>台泥</td>\n      <td>93679.08</td>\n      <td>15.51</td>\n      <td>10.33</td>\n      <td>9.25</td>\n      <td>7.39</td>\n      <td>2015</td>\n      <td>04</td>\n    </tr>\n    <tr>\n      <th>1</th>\n      <td>1102</td>\n      <td>亞泥</td>\n      <td>66287.48</td>\n      <td>10.65</td>\n      <td>6.09</td>\n      <td>10.28</td>\n      <td>7.44</td>\n      <td>2015</td>\n      <td>04</td>\n    </tr>\n    <tr>\n      <th>2</th>\n      <td>1103</td>\n      <td>嘉泥</td>\n      <td>2826.52</td>\n      <td>-3.81</td>\n      <td>14.47</td>\n      <td>6.90</td>\n      <td>7.55</td>\n      <td>2015</td>\n      <td>04</td>\n    </tr>\n    <tr>\n      <th>3</th>\n      <td>1104</td>\n      <td>環泥</td>\n      <td>5163.75</td>\n      <td>10.41</td>\n      <td>3.36</td>\n      <td>28.50</td>\n      <td>26.78</td>\n      <td>2015</td>\n      <td>04</td>\n    </tr>\n    <tr>\n      <th>4</th>\n      <td>1108</td>\n      <td>幸福</td>\n      <td>5021.35</td>\n      <td>18.05</td>\n      <td>12.43</td>\n      <td>12.27</td>\n      <td>9.22</td>\n      <td>2015</td>\n      <td>04</td>\n    </tr>\n    <tr>\n      <th>...</th>\n      <td>...</td>\n      <td>...</td>\n      <td>...</td>\n      <td>...</td>\n      <td>...</td>\n      <td>...</td>\n      <td>...</td>\n      <td>...</td>\n      <td>...</td>\n    </tr>\n    <tr>\n      <th>887</th>\n      <td>9944</td>\n      <td>新麗</td>\n      <td>3857.00</td>\n      <td>22.52</td>\n      <td>4.14</td>\n      <td>4.06</td>\n      <td>1.99</td>\n      <td>2015</td>\n      <td>04</td>\n    </tr>\n    <tr>\n      <th>888</th>\n      <td>9945</td>\n      <td>潤泰新</td>\n      <td>12978.92</td>\n      <td>28.53</td>\n      <td>16.81</td>\n      <td>66.88</td>\n      <td>65.74</td>\n      <td>2015</td>\n      <td>04</td>\n    </tr>\n    <tr>\n      <th>889</th>\n      <td>9946</td>\n      <td>三發地產</td>\n      <td>5014.31</td>\n      <td>29.33</td>\n      <td>20.48</td>\n      <td>20.93</td>\n      <td>14.87</td>\n      <td>2015</td>\n      <td>04</td>\n    </tr>\n    <tr>\n      <th>890</th>\n      <td>9955</td>\n      <td>佳龍</td>\n      <td>2317.26</td>\n      <td>-0.60</td>\n      <td>-5.40</td>\n      <td>-5.66</td>\n      <td>-5.49</td>\n      <td>2015</td>\n      <td>04</td>\n    </tr>\n    <tr>\n      <th>891</th>\n      <td>9958</td>\n      <td>世紀鋼</td>\n      <td>3025.02</td>\n      <td>12.62</td>\n      <td>8.57</td>\n      <td>7.25</td>\n      <td>6.31</td>\n      <td>2015</td>\n      <td>04</td>\n    </tr>\n  </tbody>\n</table>\n<p>892 rows × 9 columns</p>\n</div>"
     },
     "metadata": {},
     "execution_count": 6
    }
   ],
   "source": [
    "fin_ratio.data"
   ]
  },
  {
   "cell_type": "code",
   "execution_count": 16,
   "metadata": {},
   "outputs": [],
   "source": [
    "def financial_statement(year, season, type='綜合損益彙總表'):\n",
    "\n",
    "    if year >= 1000:\n",
    "        year -= 1911\n",
    "\n",
    "    if type == '綜合損益彙總表':\n",
    "        url = 'https://mops.twse.com.tw/mops/web/ajax_t163sb04'\n",
    "    elif type == '資產負債彙總表':\n",
    "        url = 'https://mops.twse.com.tw/mops/web/ajax_t163sb05'\n",
    "    elif type == '營益分析彙總表':\n",
    "        url = 'https://mops.twse.com.tw/mops/web/ajax_t163sb06'\n",
    "    else:\n",
    "        print('type does not match')\n",
    "\n",
    "    r = requests.post(url, {\n",
    "        'encodeURIComponent':1,\n",
    "        'step':1,\n",
    "        'firstin':1,\n",
    "        'off':1,\n",
    "        'TYPEK':'sii',\n",
    "        'year':'103',\n",
    "        'season':'02',\n",
    "    })\n",
    "\n",
    "    r.encoding = 'utf8'\n",
    "    dfs = pd.read_html(r.text, header=None)\n",
    "\n",
    "    return pd.concat(dfs[1:], axis=0, sort=False)\\\n",
    "             .set_index(['公司代號'])\\\n",
    "             .apply(lambda s: pd.to_numeric(s, errors='ceorce'))"
   ]
  },
  {
   "cell_type": "code",
   "execution_count": 17,
   "metadata": {},
   "outputs": [
    {
     "output_type": "error",
     "ename": "KeyError",
     "evalue": "\"None of ['公司代號'] are in the columns\"",
     "traceback": [
      "\u001b[1;31m---------------------------------------------------------------------------\u001b[0m",
      "\u001b[1;31mKeyError\u001b[0m                                  Traceback (most recent call last)",
      "\u001b[1;32m<ipython-input-17-ffd281336b1b>\u001b[0m in \u001b[0;36m<module>\u001b[1;34m\u001b[0m\n\u001b[1;32m----> 1\u001b[1;33m \u001b[0mdf\u001b[0m \u001b[1;33m=\u001b[0m \u001b[0mfinancial_statement\u001b[0m\u001b[1;33m(\u001b[0m\u001b[1;36m108\u001b[0m\u001b[1;33m,\u001b[0m\u001b[1;34m'07'\u001b[0m\u001b[1;33m,\u001b[0m\u001b[1;34m'營益分析彙總表'\u001b[0m\u001b[1;33m)\u001b[0m\u001b[1;33m\u001b[0m\u001b[1;33m\u001b[0m\u001b[0m\n\u001b[0m",
      "\u001b[1;32m<ipython-input-16-8f88bcabf7e8>\u001b[0m in \u001b[0;36mfinancial_statement\u001b[1;34m(year, season, type)\u001b[0m\n\u001b[0;32m     27\u001b[0m \u001b[1;33m\u001b[0m\u001b[0m\n\u001b[0;32m     28\u001b[0m     \u001b[1;32mreturn\u001b[0m \u001b[0mpd\u001b[0m\u001b[1;33m.\u001b[0m\u001b[0mconcat\u001b[0m\u001b[1;33m(\u001b[0m\u001b[0mdfs\u001b[0m\u001b[1;33m[\u001b[0m\u001b[1;36m1\u001b[0m\u001b[1;33m:\u001b[0m\u001b[1;33m]\u001b[0m\u001b[1;33m,\u001b[0m \u001b[0maxis\u001b[0m\u001b[1;33m=\u001b[0m\u001b[1;36m0\u001b[0m\u001b[1;33m,\u001b[0m \u001b[0msort\u001b[0m\u001b[1;33m=\u001b[0m\u001b[1;32mFalse\u001b[0m\u001b[1;33m)\u001b[0m\u001b[0;31m\\\u001b[0m\u001b[1;33m\u001b[0m\u001b[1;33m\u001b[0m\u001b[0m\n\u001b[1;32m---> 29\u001b[1;33m              \u001b[1;33m.\u001b[0m\u001b[0mset_index\u001b[0m\u001b[1;33m(\u001b[0m\u001b[1;33m[\u001b[0m\u001b[1;34m'公司代號'\u001b[0m\u001b[1;33m]\u001b[0m\u001b[1;33m)\u001b[0m\u001b[0;31m\\\u001b[0m\u001b[1;33m\u001b[0m\u001b[1;33m\u001b[0m\u001b[0m\n\u001b[0m\u001b[0;32m     30\u001b[0m              \u001b[1;33m.\u001b[0m\u001b[0mapply\u001b[0m\u001b[1;33m(\u001b[0m\u001b[1;32mlambda\u001b[0m \u001b[0ms\u001b[0m\u001b[1;33m:\u001b[0m \u001b[0mpd\u001b[0m\u001b[1;33m.\u001b[0m\u001b[0mto_numeric\u001b[0m\u001b[1;33m(\u001b[0m\u001b[0ms\u001b[0m\u001b[1;33m,\u001b[0m \u001b[0merrors\u001b[0m\u001b[1;33m=\u001b[0m\u001b[1;34m'ceorce'\u001b[0m\u001b[1;33m)\u001b[0m\u001b[1;33m)\u001b[0m\u001b[1;33m\u001b[0m\u001b[1;33m\u001b[0m\u001b[0m\n",
      "\u001b[1;32m~\\AppData\\Local\\Programs\\Python\\Python37\\lib\\site-packages\\pandas\\core\\frame.py\u001b[0m in \u001b[0;36mset_index\u001b[1;34m(self, keys, drop, append, inplace, verify_integrity)\u001b[0m\n\u001b[0;32m   4301\u001b[0m \u001b[1;33m\u001b[0m\u001b[0m\n\u001b[0;32m   4302\u001b[0m         \u001b[1;32mif\u001b[0m \u001b[0mmissing\u001b[0m\u001b[1;33m:\u001b[0m\u001b[1;33m\u001b[0m\u001b[1;33m\u001b[0m\u001b[0m\n\u001b[1;32m-> 4303\u001b[1;33m             \u001b[1;32mraise\u001b[0m \u001b[0mKeyError\u001b[0m\u001b[1;33m(\u001b[0m\u001b[1;34mf\"None of {missing} are in the columns\"\u001b[0m\u001b[1;33m)\u001b[0m\u001b[1;33m\u001b[0m\u001b[1;33m\u001b[0m\u001b[0m\n\u001b[0m\u001b[0;32m   4304\u001b[0m \u001b[1;33m\u001b[0m\u001b[0m\n\u001b[0;32m   4305\u001b[0m         \u001b[1;32mif\u001b[0m \u001b[0minplace\u001b[0m\u001b[1;33m:\u001b[0m\u001b[1;33m\u001b[0m\u001b[1;33m\u001b[0m\u001b[0m\n",
      "\u001b[1;31mKeyError\u001b[0m: \"None of ['公司代號'] are in the columns\""
     ]
    }
   ],
   "source": [
    "df = financial_statement(108,'07','營益分析彙總表')"
   ]
  },
  {
   "cell_type": "code",
   "execution_count": 43,
   "metadata": {},
   "outputs": [],
   "source": [
    " m_mapping = {'上市':'sii','上櫃':'otc'}\n",
    "base_url = 'https://mops.twse.com.tw/mops/web/'\n",
    "p_mapping = {\n",
    "                '營益分析':base_url+'t163sb06'\n",
    "            ,'財務結構分析':base_url+'t51sb02'}\n",
    "old_p_mapping = {\n",
    "                '營益分析':base_url+'t51sb06'\n",
    "            ,'財務結構分析':base_url+'ajax_t51sb02'}\n",
    "mkt_type = m_mapping['上市']\n",
    "url = p_mapping['營益分析']\n",
    "year = 101\n",
    "season = '05'\n",
    "form = {'encodeURIComponent':1,\n",
    "        'step':1,\n",
    "        'firstin':1,\n",
    "        'off':1,\n",
    "        'TYPEK':mkt_type,\n",
    "        'year':str(year),\n",
    "        'season':season\n",
    "        }\n",
    "form['ifrs']='Y' if year>=102 else 'N'            \n",
    "headers = {'User-Agent': 'Mozilla/5.0 (Macintosh; Intel Mac OS X 10_10_1) \\\n",
    "            AppleWebKit/537.36 (KHTML, like Gecko) Chrome/39.0.2171.95 Safari/537.36'}    \n",
    "r = requests.post(url, form, headers=headers)\n",
    "r.encoding = 'utf8'\n",
    "dfs = pd.read_html(StringIO(r.text))"
   ]
  },
  {
   "cell_type": "code",
   "execution_count": 45,
   "metadata": {},
   "outputs": [],
   "source": [
    "dfs1 = [i for i in dfs if i.shape[0]>5]"
   ]
  },
  {
   "cell_type": "code",
   "execution_count": 46,
   "metadata": {},
   "outputs": [
    {
     "output_type": "execute_result",
     "data": {
      "text/plain": "[]"
     },
     "metadata": {},
     "execution_count": 46
    }
   ],
   "source": [
    "dfs1"
   ]
  },
  {
   "cell_type": "code",
   "execution_count": 37,
   "metadata": {},
   "outputs": [],
   "source": [
    "df.columns = df.columns.get_level_values(1)"
   ]
  },
  {
   "cell_type": "code",
   "execution_count": 38,
   "metadata": {},
   "outputs": [
    {
     "output_type": "execute_result",
     "data": {
      "text/plain": "   公司代號 公司簡稱 負債佔資產比率(%) 長期資金佔固定資產比率(%) 流動比率(%) 速動比率(%) 利息保障倍數(%) 應收款項週轉率(次)  \\\n0  1101   台泥      13.24         319.70  158.69  142.34    415.58       4.85   \n1  1102   亞泥      31.32         800.62  114.62   95.35     10.72       9.68   \n2  1103   嘉泥      39.20        1301.91  325.63  313.75   -382.13       9.07   \n3  1104   環泥      13.07         361.77  205.54  165.21   2960.90       4.31   \n4  1108   幸福      45.28         212.90  110.67   77.67      4.59       5.43   \n\n  應收款項收現日數 存貨週轉率(次)  ... 總資產週轉率(次) 資產報酬率(%) 股東權益報酬率(%) 營業利益佔實收資本比率(%)  \\\n0    75.25    13.64  ...      0.21     6.95       7.87           5.57   \n1    37.70     6.28  ...      0.10     5.50       7.29           0.78   \n2    40.24    11.52  ...      0.06    -2.58      -4.89          -1.20   \n3    84.68    12.41  ...      0.23     4.75       5.46          -0.81   \n4    67.21     7.14  ...      0.44     2.86       4.20           1.89   \n\n  稅前純益佔實收資本比率(%)  純益率(%) 每股盈餘(元) 現金流量比率(%) 現金流量允當比率(%) 現金再投資比率(%)  \n0          21.55   32.52    2.09     80.52      109.97       0.67  \n1          19.91   53.03    1.93     57.36       85.25      -0.97  \n2          -8.78  -56.69   -1.13     31.25       59.58       0.95  \n3          11.81   20.63    1.18     36.15       69.64      -0.65  \n4           5.04    5.14    0.43     24.98       83.10       3.22  \n\n[5 rows x 22 columns]",
      "text/html": "<div>\n<style scoped>\n    .dataframe tbody tr th:only-of-type {\n        vertical-align: middle;\n    }\n\n    .dataframe tbody tr th {\n        vertical-align: top;\n    }\n\n    .dataframe thead th {\n        text-align: right;\n    }\n</style>\n<table border=\"1\" class=\"dataframe\">\n  <thead>\n    <tr style=\"text-align: right;\">\n      <th></th>\n      <th>公司代號</th>\n      <th>公司簡稱</th>\n      <th>負債佔資產比率(%)</th>\n      <th>長期資金佔固定資產比率(%)</th>\n      <th>流動比率(%)</th>\n      <th>速動比率(%)</th>\n      <th>利息保障倍數(%)</th>\n      <th>應收款項週轉率(次)</th>\n      <th>應收款項收現日數</th>\n      <th>存貨週轉率(次)</th>\n      <th>...</th>\n      <th>總資產週轉率(次)</th>\n      <th>資產報酬率(%)</th>\n      <th>股東權益報酬率(%)</th>\n      <th>營業利益佔實收資本比率(%)</th>\n      <th>稅前純益佔實收資本比率(%)</th>\n      <th>純益率(%)</th>\n      <th>每股盈餘(元)</th>\n      <th>現金流量比率(%)</th>\n      <th>現金流量允當比率(%)</th>\n      <th>現金再投資比率(%)</th>\n    </tr>\n  </thead>\n  <tbody>\n    <tr>\n      <th>0</th>\n      <td>1101</td>\n      <td>台泥</td>\n      <td>13.24</td>\n      <td>319.70</td>\n      <td>158.69</td>\n      <td>142.34</td>\n      <td>415.58</td>\n      <td>4.85</td>\n      <td>75.25</td>\n      <td>13.64</td>\n      <td>...</td>\n      <td>0.21</td>\n      <td>6.95</td>\n      <td>7.87</td>\n      <td>5.57</td>\n      <td>21.55</td>\n      <td>32.52</td>\n      <td>2.09</td>\n      <td>80.52</td>\n      <td>109.97</td>\n      <td>0.67</td>\n    </tr>\n    <tr>\n      <th>1</th>\n      <td>1102</td>\n      <td>亞泥</td>\n      <td>31.32</td>\n      <td>800.62</td>\n      <td>114.62</td>\n      <td>95.35</td>\n      <td>10.72</td>\n      <td>9.68</td>\n      <td>37.70</td>\n      <td>6.28</td>\n      <td>...</td>\n      <td>0.10</td>\n      <td>5.50</td>\n      <td>7.29</td>\n      <td>0.78</td>\n      <td>19.91</td>\n      <td>53.03</td>\n      <td>1.93</td>\n      <td>57.36</td>\n      <td>85.25</td>\n      <td>-0.97</td>\n    </tr>\n    <tr>\n      <th>2</th>\n      <td>1103</td>\n      <td>嘉泥</td>\n      <td>39.20</td>\n      <td>1301.91</td>\n      <td>325.63</td>\n      <td>313.75</td>\n      <td>-382.13</td>\n      <td>9.07</td>\n      <td>40.24</td>\n      <td>11.52</td>\n      <td>...</td>\n      <td>0.06</td>\n      <td>-2.58</td>\n      <td>-4.89</td>\n      <td>-1.20</td>\n      <td>-8.78</td>\n      <td>-56.69</td>\n      <td>-1.13</td>\n      <td>31.25</td>\n      <td>59.58</td>\n      <td>0.95</td>\n    </tr>\n    <tr>\n      <th>3</th>\n      <td>1104</td>\n      <td>環泥</td>\n      <td>13.07</td>\n      <td>361.77</td>\n      <td>205.54</td>\n      <td>165.21</td>\n      <td>2960.90</td>\n      <td>4.31</td>\n      <td>84.68</td>\n      <td>12.41</td>\n      <td>...</td>\n      <td>0.23</td>\n      <td>4.75</td>\n      <td>5.46</td>\n      <td>-0.81</td>\n      <td>11.81</td>\n      <td>20.63</td>\n      <td>1.18</td>\n      <td>36.15</td>\n      <td>69.64</td>\n      <td>-0.65</td>\n    </tr>\n    <tr>\n      <th>4</th>\n      <td>1108</td>\n      <td>幸福</td>\n      <td>45.28</td>\n      <td>212.90</td>\n      <td>110.67</td>\n      <td>77.67</td>\n      <td>4.59</td>\n      <td>5.43</td>\n      <td>67.21</td>\n      <td>7.14</td>\n      <td>...</td>\n      <td>0.44</td>\n      <td>2.86</td>\n      <td>4.20</td>\n      <td>1.89</td>\n      <td>5.04</td>\n      <td>5.14</td>\n      <td>0.43</td>\n      <td>24.98</td>\n      <td>83.10</td>\n      <td>3.22</td>\n    </tr>\n  </tbody>\n</table>\n<p>5 rows × 22 columns</p>\n</div>"
     },
     "metadata": {},
     "execution_count": 38
    }
   ],
   "source": [
    "df.head()"
   ]
  },
  {
   "cell_type": "code",
   "execution_count": 31,
   "metadata": {},
   "outputs": [
    {
     "output_type": "execute_result",
     "data": {
      "text/plain": "     公司代號  公司簡稱 負債佔資產比率(%) 長期資金佔不動產、廠房及設備比率(%) 流動比率(%) 速動比率(%) 利息保障倍數(%)  \\\n0    1101    台泥      45.66              194.10  124.70  110.88     12.42   \n1    1102    亞泥      50.31              246.85  105.46   92.77      7.27   \n2    1103    嘉泥      35.58              832.12  412.74  367.86    881.41   \n3    1104    環泥      18.08              248.67  154.73  133.99    169.33   \n4    1108    幸福      48.70              260.62  250.11   78.18      4.05   \n..    ...   ...        ...                 ...     ...     ...       ...   \n989  9944    新麗      43.16              151.17  139.50  104.37      6.83   \n990  9945   潤泰新      42.36             1866.63  138.19   37.64     70.08   \n991  9946  三發地產      62.99             3201.78  170.96   19.97   1560.21   \n992  9955    佳龍      31.11              177.34  328.33   97.01     -7.12   \n993  9958   世紀鋼      51.87              205.97  154.09   81.81      4.30   \n\n    應收款項週轉率(次)  平均收現日數 存貨週轉率(次)  ... 不動產、廠房及設備週轉率(次) 總資產週轉率(次) 資產報酬率(%)  \\\n0         5.15   70.87     9.85  ...            1.09      0.42     5.92   \n1         4.15   87.95     7.95  ...            1.19      0.32     4.79   \n2         6.30   57.93     2.56  ...            1.15      0.13     4.57   \n3         4.21   86.69    14.26  ...            0.90      0.30     6.68   \n4         4.55   80.21     1.17  ...            2.00      0.57     2.54   \n..         ...     ...      ...  ...             ...       ...      ...   \n989       5.78   63.14     6.17  ...            1.96      0.82     3.27   \n990       8.44   43.24     0.64  ...            4.45      0.21    44.28   \n991     228.84    1.59     0.42  ...           38.43      0.55    13.74   \n992      25.34   14.40     3.02  ...            3.30      1.31    -1.69   \n993       2.41  151.45     1.81  ...            2.84      0.69     4.86   \n\n    權益報酬率(%) 稅前純益佔實收資本比率(%)  純益率(%) 每股盈餘(元) 現金流量比率(%) 現金流量允當比率(%) 現金再投資比率(%)  \n0      10.24          50.39   13.02    2.72     31.21      103.54       6.27  \n1       8.04          31.19   12.04    2.21     23.86       83.19       5.18  \n2       6.80          17.23   30.22    1.97      0.00       45.45       0.00  \n3       8.16          19.02   21.21    1.84     23.35       79.11      -0.27  \n4       3.78           5.23    3.34    0.44     27.79      192.58       3.46  \n..       ...            ...     ...     ...       ...         ...        ...  \n989     4.77          17.25    3.20    1.05     13.35       89.23       4.71  \n990    81.83         264.98  206.84   29.03      0.00        0.00       0.00  \n991    41.31          75.11   24.78    6.71     11.07      -62.79       4.64  \n992    -2.69          -7.13   -1.46   -0.61     46.19       24.25       6.36  \n993     9.44          11.88    5.49    1.20     27.15       58.74      18.83  \n\n[878 rows x 21 columns]",
      "text/html": "<div>\n<style scoped>\n    .dataframe tbody tr th:only-of-type {\n        vertical-align: middle;\n    }\n\n    .dataframe tbody tr th {\n        vertical-align: top;\n    }\n\n    .dataframe thead th {\n        text-align: right;\n    }\n</style>\n<table border=\"1\" class=\"dataframe\">\n  <thead>\n    <tr style=\"text-align: right;\">\n      <th></th>\n      <th>公司代號</th>\n      <th>公司簡稱</th>\n      <th>負債佔資產比率(%)</th>\n      <th>長期資金佔不動產、廠房及設備比率(%)</th>\n      <th>流動比率(%)</th>\n      <th>速動比率(%)</th>\n      <th>利息保障倍數(%)</th>\n      <th>應收款項週轉率(次)</th>\n      <th>平均收現日數</th>\n      <th>存貨週轉率(次)</th>\n      <th>...</th>\n      <th>不動產、廠房及設備週轉率(次)</th>\n      <th>總資產週轉率(次)</th>\n      <th>資產報酬率(%)</th>\n      <th>權益報酬率(%)</th>\n      <th>稅前純益佔實收資本比率(%)</th>\n      <th>純益率(%)</th>\n      <th>每股盈餘(元)</th>\n      <th>現金流量比率(%)</th>\n      <th>現金流量允當比率(%)</th>\n      <th>現金再投資比率(%)</th>\n    </tr>\n  </thead>\n  <tbody>\n    <tr>\n      <th>0</th>\n      <td>1101</td>\n      <td>台泥</td>\n      <td>45.66</td>\n      <td>194.10</td>\n      <td>124.70</td>\n      <td>110.88</td>\n      <td>12.42</td>\n      <td>5.15</td>\n      <td>70.87</td>\n      <td>9.85</td>\n      <td>...</td>\n      <td>1.09</td>\n      <td>0.42</td>\n      <td>5.92</td>\n      <td>10.24</td>\n      <td>50.39</td>\n      <td>13.02</td>\n      <td>2.72</td>\n      <td>31.21</td>\n      <td>103.54</td>\n      <td>6.27</td>\n    </tr>\n    <tr>\n      <th>1</th>\n      <td>1102</td>\n      <td>亞泥</td>\n      <td>50.31</td>\n      <td>246.85</td>\n      <td>105.46</td>\n      <td>92.77</td>\n      <td>7.27</td>\n      <td>4.15</td>\n      <td>87.95</td>\n      <td>7.95</td>\n      <td>...</td>\n      <td>1.19</td>\n      <td>0.32</td>\n      <td>4.79</td>\n      <td>8.04</td>\n      <td>31.19</td>\n      <td>12.04</td>\n      <td>2.21</td>\n      <td>23.86</td>\n      <td>83.19</td>\n      <td>5.18</td>\n    </tr>\n    <tr>\n      <th>2</th>\n      <td>1103</td>\n      <td>嘉泥</td>\n      <td>35.58</td>\n      <td>832.12</td>\n      <td>412.74</td>\n      <td>367.86</td>\n      <td>881.41</td>\n      <td>6.30</td>\n      <td>57.93</td>\n      <td>2.56</td>\n      <td>...</td>\n      <td>1.15</td>\n      <td>0.13</td>\n      <td>4.57</td>\n      <td>6.80</td>\n      <td>17.23</td>\n      <td>30.22</td>\n      <td>1.97</td>\n      <td>0.00</td>\n      <td>45.45</td>\n      <td>0.00</td>\n    </tr>\n    <tr>\n      <th>3</th>\n      <td>1104</td>\n      <td>環泥</td>\n      <td>18.08</td>\n      <td>248.67</td>\n      <td>154.73</td>\n      <td>133.99</td>\n      <td>169.33</td>\n      <td>4.21</td>\n      <td>86.69</td>\n      <td>14.26</td>\n      <td>...</td>\n      <td>0.90</td>\n      <td>0.30</td>\n      <td>6.68</td>\n      <td>8.16</td>\n      <td>19.02</td>\n      <td>21.21</td>\n      <td>1.84</td>\n      <td>23.35</td>\n      <td>79.11</td>\n      <td>-0.27</td>\n    </tr>\n    <tr>\n      <th>4</th>\n      <td>1108</td>\n      <td>幸福</td>\n      <td>48.70</td>\n      <td>260.62</td>\n      <td>250.11</td>\n      <td>78.18</td>\n      <td>4.05</td>\n      <td>4.55</td>\n      <td>80.21</td>\n      <td>1.17</td>\n      <td>...</td>\n      <td>2.00</td>\n      <td>0.57</td>\n      <td>2.54</td>\n      <td>3.78</td>\n      <td>5.23</td>\n      <td>3.34</td>\n      <td>0.44</td>\n      <td>27.79</td>\n      <td>192.58</td>\n      <td>3.46</td>\n    </tr>\n    <tr>\n      <th>...</th>\n      <td>...</td>\n      <td>...</td>\n      <td>...</td>\n      <td>...</td>\n      <td>...</td>\n      <td>...</td>\n      <td>...</td>\n      <td>...</td>\n      <td>...</td>\n      <td>...</td>\n      <td>...</td>\n      <td>...</td>\n      <td>...</td>\n      <td>...</td>\n      <td>...</td>\n      <td>...</td>\n      <td>...</td>\n      <td>...</td>\n      <td>...</td>\n      <td>...</td>\n      <td>...</td>\n    </tr>\n    <tr>\n      <th>989</th>\n      <td>9944</td>\n      <td>新麗</td>\n      <td>43.16</td>\n      <td>151.17</td>\n      <td>139.50</td>\n      <td>104.37</td>\n      <td>6.83</td>\n      <td>5.78</td>\n      <td>63.14</td>\n      <td>6.17</td>\n      <td>...</td>\n      <td>1.96</td>\n      <td>0.82</td>\n      <td>3.27</td>\n      <td>4.77</td>\n      <td>17.25</td>\n      <td>3.20</td>\n      <td>1.05</td>\n      <td>13.35</td>\n      <td>89.23</td>\n      <td>4.71</td>\n    </tr>\n    <tr>\n      <th>990</th>\n      <td>9945</td>\n      <td>潤泰新</td>\n      <td>42.36</td>\n      <td>1866.63</td>\n      <td>138.19</td>\n      <td>37.64</td>\n      <td>70.08</td>\n      <td>8.44</td>\n      <td>43.24</td>\n      <td>0.64</td>\n      <td>...</td>\n      <td>4.45</td>\n      <td>0.21</td>\n      <td>44.28</td>\n      <td>81.83</td>\n      <td>264.98</td>\n      <td>206.84</td>\n      <td>29.03</td>\n      <td>0.00</td>\n      <td>0.00</td>\n      <td>0.00</td>\n    </tr>\n    <tr>\n      <th>991</th>\n      <td>9946</td>\n      <td>三發地產</td>\n      <td>62.99</td>\n      <td>3201.78</td>\n      <td>170.96</td>\n      <td>19.97</td>\n      <td>1560.21</td>\n      <td>228.84</td>\n      <td>1.59</td>\n      <td>0.42</td>\n      <td>...</td>\n      <td>38.43</td>\n      <td>0.55</td>\n      <td>13.74</td>\n      <td>41.31</td>\n      <td>75.11</td>\n      <td>24.78</td>\n      <td>6.71</td>\n      <td>11.07</td>\n      <td>-62.79</td>\n      <td>4.64</td>\n    </tr>\n    <tr>\n      <th>992</th>\n      <td>9955</td>\n      <td>佳龍</td>\n      <td>31.11</td>\n      <td>177.34</td>\n      <td>328.33</td>\n      <td>97.01</td>\n      <td>-7.12</td>\n      <td>25.34</td>\n      <td>14.40</td>\n      <td>3.02</td>\n      <td>...</td>\n      <td>3.30</td>\n      <td>1.31</td>\n      <td>-1.69</td>\n      <td>-2.69</td>\n      <td>-7.13</td>\n      <td>-1.46</td>\n      <td>-0.61</td>\n      <td>46.19</td>\n      <td>24.25</td>\n      <td>6.36</td>\n    </tr>\n    <tr>\n      <th>993</th>\n      <td>9958</td>\n      <td>世紀鋼</td>\n      <td>51.87</td>\n      <td>205.97</td>\n      <td>154.09</td>\n      <td>81.81</td>\n      <td>4.30</td>\n      <td>2.41</td>\n      <td>151.45</td>\n      <td>1.81</td>\n      <td>...</td>\n      <td>2.84</td>\n      <td>0.69</td>\n      <td>4.86</td>\n      <td>9.44</td>\n      <td>11.88</td>\n      <td>5.49</td>\n      <td>1.20</td>\n      <td>27.15</td>\n      <td>58.74</td>\n      <td>18.83</td>\n    </tr>\n  </tbody>\n</table>\n<p>878 rows × 21 columns</p>\n</div>"
     },
     "metadata": {},
     "execution_count": 31
    }
   ],
   "source": [
    "df[df['公司代號']!='公司代號']"
   ]
  },
  {
   "cell_type": "code",
   "execution_count": 32,
   "metadata": {},
   "outputs": [],
   "source": [
    "def revr(data, nmbr):\n",
    "    cols = data.columns.tolist()\n",
    "    cols = cols[nmbr:] + cols[:nmbr]\n",
    "    data = data[cols]\n",
    "    return data"
   ]
  },
  {
   "cell_type": "code",
   "execution_count": 33,
   "metadata": {},
   "outputs": [
    {
     "output_type": "execute_result",
     "data": {
      "text/plain": "    現金再投資比率(%)  公司代號  公司簡稱 負債佔資產比率(%) 長期資金佔不動產、廠房及設備比率(%) 流動比率(%) 速動比率(%)  \\\n0         6.27  1101    台泥      45.66              194.10  124.70  110.88   \n1         5.18  1102    亞泥      50.31              246.85  105.46   92.77   \n2         0.00  1103    嘉泥      35.58              832.12  412.74  367.86   \n3        -0.27  1104    環泥      18.08              248.67  154.73  133.99   \n4         3.46  1108    幸福      48.70              260.62  250.11   78.18   \n..         ...   ...   ...        ...                 ...     ...     ...   \n989       4.71  9944    新麗      43.16              151.17  139.50  104.37   \n990       0.00  9945   潤泰新      42.36             1866.63  138.19   37.64   \n991       4.64  9946  三發地產      62.99             3201.78  170.96   19.97   \n992       6.36  9955    佳龍      31.11              177.34  328.33   97.01   \n993      18.83  9958   世紀鋼      51.87              205.97  154.09   81.81   \n\n    利息保障倍數(%) 應收款項週轉率(次)  平均收現日數  ...  平均銷貨日數 不動產、廠房及設備週轉率(次) 總資產週轉率(次)  \\\n0       12.42       5.15   70.87  ...   37.05            1.09      0.42   \n1        7.27       4.15   87.95  ...   45.91            1.19      0.32   \n2      881.41       6.30   57.93  ...  142.57            1.15      0.13   \n3      169.33       4.21   86.69  ...   25.59            0.90      0.30   \n4        4.05       4.55   80.21  ...  311.96            2.00      0.57   \n..        ...        ...     ...  ...     ...             ...       ...   \n989      6.83       5.78   63.14  ...   59.15            1.96      0.82   \n990     70.08       8.44   43.24  ...  570.31            4.45      0.21   \n991   1560.21     228.84    1.59  ...  869.04           38.43      0.55   \n992     -7.12      25.34   14.40  ...  120.86            3.30      1.31   \n993      4.30       2.41  151.45  ...  201.65            2.84      0.69   \n\n    資產報酬率(%) 權益報酬率(%) 稅前純益佔實收資本比率(%)  純益率(%) 每股盈餘(元) 現金流量比率(%) 現金流量允當比率(%)  \n0       5.92    10.24          50.39   13.02    2.72     31.21      103.54  \n1       4.79     8.04          31.19   12.04    2.21     23.86       83.19  \n2       4.57     6.80          17.23   30.22    1.97      0.00       45.45  \n3       6.68     8.16          19.02   21.21    1.84     23.35       79.11  \n4       2.54     3.78           5.23    3.34    0.44     27.79      192.58  \n..       ...      ...            ...     ...     ...       ...         ...  \n989     3.27     4.77          17.25    3.20    1.05     13.35       89.23  \n990    44.28    81.83         264.98  206.84   29.03      0.00        0.00  \n991    13.74    41.31          75.11   24.78    6.71     11.07      -62.79  \n992    -1.69    -2.69          -7.13   -1.46   -0.61     46.19       24.25  \n993     4.86     9.44          11.88    5.49    1.20     27.15       58.74  \n\n[994 rows x 21 columns]",
      "text/html": "<div>\n<style scoped>\n    .dataframe tbody tr th:only-of-type {\n        vertical-align: middle;\n    }\n\n    .dataframe tbody tr th {\n        vertical-align: top;\n    }\n\n    .dataframe thead th {\n        text-align: right;\n    }\n</style>\n<table border=\"1\" class=\"dataframe\">\n  <thead>\n    <tr style=\"text-align: right;\">\n      <th></th>\n      <th>現金再投資比率(%)</th>\n      <th>公司代號</th>\n      <th>公司簡稱</th>\n      <th>負債佔資產比率(%)</th>\n      <th>長期資金佔不動產、廠房及設備比率(%)</th>\n      <th>流動比率(%)</th>\n      <th>速動比率(%)</th>\n      <th>利息保障倍數(%)</th>\n      <th>應收款項週轉率(次)</th>\n      <th>平均收現日數</th>\n      <th>...</th>\n      <th>平均銷貨日數</th>\n      <th>不動產、廠房及設備週轉率(次)</th>\n      <th>總資產週轉率(次)</th>\n      <th>資產報酬率(%)</th>\n      <th>權益報酬率(%)</th>\n      <th>稅前純益佔實收資本比率(%)</th>\n      <th>純益率(%)</th>\n      <th>每股盈餘(元)</th>\n      <th>現金流量比率(%)</th>\n      <th>現金流量允當比率(%)</th>\n    </tr>\n  </thead>\n  <tbody>\n    <tr>\n      <th>0</th>\n      <td>6.27</td>\n      <td>1101</td>\n      <td>台泥</td>\n      <td>45.66</td>\n      <td>194.10</td>\n      <td>124.70</td>\n      <td>110.88</td>\n      <td>12.42</td>\n      <td>5.15</td>\n      <td>70.87</td>\n      <td>...</td>\n      <td>37.05</td>\n      <td>1.09</td>\n      <td>0.42</td>\n      <td>5.92</td>\n      <td>10.24</td>\n      <td>50.39</td>\n      <td>13.02</td>\n      <td>2.72</td>\n      <td>31.21</td>\n      <td>103.54</td>\n    </tr>\n    <tr>\n      <th>1</th>\n      <td>5.18</td>\n      <td>1102</td>\n      <td>亞泥</td>\n      <td>50.31</td>\n      <td>246.85</td>\n      <td>105.46</td>\n      <td>92.77</td>\n      <td>7.27</td>\n      <td>4.15</td>\n      <td>87.95</td>\n      <td>...</td>\n      <td>45.91</td>\n      <td>1.19</td>\n      <td>0.32</td>\n      <td>4.79</td>\n      <td>8.04</td>\n      <td>31.19</td>\n      <td>12.04</td>\n      <td>2.21</td>\n      <td>23.86</td>\n      <td>83.19</td>\n    </tr>\n    <tr>\n      <th>2</th>\n      <td>0.00</td>\n      <td>1103</td>\n      <td>嘉泥</td>\n      <td>35.58</td>\n      <td>832.12</td>\n      <td>412.74</td>\n      <td>367.86</td>\n      <td>881.41</td>\n      <td>6.30</td>\n      <td>57.93</td>\n      <td>...</td>\n      <td>142.57</td>\n      <td>1.15</td>\n      <td>0.13</td>\n      <td>4.57</td>\n      <td>6.80</td>\n      <td>17.23</td>\n      <td>30.22</td>\n      <td>1.97</td>\n      <td>0.00</td>\n      <td>45.45</td>\n    </tr>\n    <tr>\n      <th>3</th>\n      <td>-0.27</td>\n      <td>1104</td>\n      <td>環泥</td>\n      <td>18.08</td>\n      <td>248.67</td>\n      <td>154.73</td>\n      <td>133.99</td>\n      <td>169.33</td>\n      <td>4.21</td>\n      <td>86.69</td>\n      <td>...</td>\n      <td>25.59</td>\n      <td>0.90</td>\n      <td>0.30</td>\n      <td>6.68</td>\n      <td>8.16</td>\n      <td>19.02</td>\n      <td>21.21</td>\n      <td>1.84</td>\n      <td>23.35</td>\n      <td>79.11</td>\n    </tr>\n    <tr>\n      <th>4</th>\n      <td>3.46</td>\n      <td>1108</td>\n      <td>幸福</td>\n      <td>48.70</td>\n      <td>260.62</td>\n      <td>250.11</td>\n      <td>78.18</td>\n      <td>4.05</td>\n      <td>4.55</td>\n      <td>80.21</td>\n      <td>...</td>\n      <td>311.96</td>\n      <td>2.00</td>\n      <td>0.57</td>\n      <td>2.54</td>\n      <td>3.78</td>\n      <td>5.23</td>\n      <td>3.34</td>\n      <td>0.44</td>\n      <td>27.79</td>\n      <td>192.58</td>\n    </tr>\n    <tr>\n      <th>...</th>\n      <td>...</td>\n      <td>...</td>\n      <td>...</td>\n      <td>...</td>\n      <td>...</td>\n      <td>...</td>\n      <td>...</td>\n      <td>...</td>\n      <td>...</td>\n      <td>...</td>\n      <td>...</td>\n      <td>...</td>\n      <td>...</td>\n      <td>...</td>\n      <td>...</td>\n      <td>...</td>\n      <td>...</td>\n      <td>...</td>\n      <td>...</td>\n      <td>...</td>\n      <td>...</td>\n    </tr>\n    <tr>\n      <th>989</th>\n      <td>4.71</td>\n      <td>9944</td>\n      <td>新麗</td>\n      <td>43.16</td>\n      <td>151.17</td>\n      <td>139.50</td>\n      <td>104.37</td>\n      <td>6.83</td>\n      <td>5.78</td>\n      <td>63.14</td>\n      <td>...</td>\n      <td>59.15</td>\n      <td>1.96</td>\n      <td>0.82</td>\n      <td>3.27</td>\n      <td>4.77</td>\n      <td>17.25</td>\n      <td>3.20</td>\n      <td>1.05</td>\n      <td>13.35</td>\n      <td>89.23</td>\n    </tr>\n    <tr>\n      <th>990</th>\n      <td>0.00</td>\n      <td>9945</td>\n      <td>潤泰新</td>\n      <td>42.36</td>\n      <td>1866.63</td>\n      <td>138.19</td>\n      <td>37.64</td>\n      <td>70.08</td>\n      <td>8.44</td>\n      <td>43.24</td>\n      <td>...</td>\n      <td>570.31</td>\n      <td>4.45</td>\n      <td>0.21</td>\n      <td>44.28</td>\n      <td>81.83</td>\n      <td>264.98</td>\n      <td>206.84</td>\n      <td>29.03</td>\n      <td>0.00</td>\n      <td>0.00</td>\n    </tr>\n    <tr>\n      <th>991</th>\n      <td>4.64</td>\n      <td>9946</td>\n      <td>三發地產</td>\n      <td>62.99</td>\n      <td>3201.78</td>\n      <td>170.96</td>\n      <td>19.97</td>\n      <td>1560.21</td>\n      <td>228.84</td>\n      <td>1.59</td>\n      <td>...</td>\n      <td>869.04</td>\n      <td>38.43</td>\n      <td>0.55</td>\n      <td>13.74</td>\n      <td>41.31</td>\n      <td>75.11</td>\n      <td>24.78</td>\n      <td>6.71</td>\n      <td>11.07</td>\n      <td>-62.79</td>\n    </tr>\n    <tr>\n      <th>992</th>\n      <td>6.36</td>\n      <td>9955</td>\n      <td>佳龍</td>\n      <td>31.11</td>\n      <td>177.34</td>\n      <td>328.33</td>\n      <td>97.01</td>\n      <td>-7.12</td>\n      <td>25.34</td>\n      <td>14.40</td>\n      <td>...</td>\n      <td>120.86</td>\n      <td>3.30</td>\n      <td>1.31</td>\n      <td>-1.69</td>\n      <td>-2.69</td>\n      <td>-7.13</td>\n      <td>-1.46</td>\n      <td>-0.61</td>\n      <td>46.19</td>\n      <td>24.25</td>\n    </tr>\n    <tr>\n      <th>993</th>\n      <td>18.83</td>\n      <td>9958</td>\n      <td>世紀鋼</td>\n      <td>51.87</td>\n      <td>205.97</td>\n      <td>154.09</td>\n      <td>81.81</td>\n      <td>4.30</td>\n      <td>2.41</td>\n      <td>151.45</td>\n      <td>...</td>\n      <td>201.65</td>\n      <td>2.84</td>\n      <td>0.69</td>\n      <td>4.86</td>\n      <td>9.44</td>\n      <td>11.88</td>\n      <td>5.49</td>\n      <td>1.20</td>\n      <td>27.15</td>\n      <td>58.74</td>\n    </tr>\n  </tbody>\n</table>\n<p>994 rows × 21 columns</p>\n</div>"
     },
     "metadata": {},
     "execution_count": 33
    }
   ],
   "source": [
    "revr(df,-1)"
   ]
  },
  {
   "cell_type": "code",
   "execution_count": 30,
   "metadata": {},
   "outputs": [
    {
     "output_type": "execute_result",
     "data": {
      "text/plain": "     公司代號  公司簡稱 負債佔資產比率(%) 長期資金佔不動產、廠房及設備比率(%) 流動比率(%) 速動比率(%) 利息保障倍數(%)  \\\n0    1101    台泥      45.66              194.10  124.70  110.88     12.42   \n1    1102    亞泥      50.31              246.85  105.46   92.77      7.27   \n2    1103    嘉泥      35.58              832.12  412.74  367.86    881.41   \n3    1104    環泥      18.08              248.67  154.73  133.99    169.33   \n4    1108    幸福      48.70              260.62  250.11   78.18      4.05   \n..    ...   ...        ...                 ...     ...     ...       ...   \n989  9944    新麗      43.16              151.17  139.50  104.37      6.83   \n990  9945   潤泰新      42.36             1866.63  138.19   37.64     70.08   \n991  9946  三發地產      62.99             3201.78  170.96   19.97   1560.21   \n992  9955    佳龍      31.11              177.34  328.33   97.01     -7.12   \n993  9958   世紀鋼      51.87              205.97  154.09   81.81      4.30   \n\n    應收款項週轉率(次)  平均收現日數 存貨週轉率(次)  ... 不動產、廠房及設備週轉率(次) 總資產週轉率(次) 資產報酬率(%)  \\\n0         5.15   70.87     9.85  ...            1.09      0.42     5.92   \n1         4.15   87.95     7.95  ...            1.19      0.32     4.79   \n2         6.30   57.93     2.56  ...            1.15      0.13     4.57   \n3         4.21   86.69    14.26  ...            0.90      0.30     6.68   \n4         4.55   80.21     1.17  ...            2.00      0.57     2.54   \n..         ...     ...      ...  ...             ...       ...      ...   \n989       5.78   63.14     6.17  ...            1.96      0.82     3.27   \n990       8.44   43.24     0.64  ...            4.45      0.21    44.28   \n991     228.84    1.59     0.42  ...           38.43      0.55    13.74   \n992      25.34   14.40     3.02  ...            3.30      1.31    -1.69   \n993       2.41  151.45     1.81  ...            2.84      0.69     4.86   \n\n    權益報酬率(%) 稅前純益佔實收資本比率(%)  純益率(%) 每股盈餘(元) 現金流量比率(%) 現金流量允當比率(%) 現金再投資比率(%)  \n0      10.24          50.39   13.02    2.72     31.21      103.54       6.27  \n1       8.04          31.19   12.04    2.21     23.86       83.19       5.18  \n2       6.80          17.23   30.22    1.97      0.00       45.45       0.00  \n3       8.16          19.02   21.21    1.84     23.35       79.11      -0.27  \n4       3.78           5.23    3.34    0.44     27.79      192.58       3.46  \n..       ...            ...     ...     ...       ...         ...        ...  \n989     4.77          17.25    3.20    1.05     13.35       89.23       4.71  \n990    81.83         264.98  206.84   29.03      0.00        0.00       0.00  \n991    41.31          75.11   24.78    6.71     11.07      -62.79       4.64  \n992    -2.69          -7.13   -1.46   -0.61     46.19       24.25       6.36  \n993     9.44          11.88    5.49    1.20     27.15       58.74      18.83  \n\n[994 rows x 21 columns]",
      "text/html": "<div>\n<style scoped>\n    .dataframe tbody tr th:only-of-type {\n        vertical-align: middle;\n    }\n\n    .dataframe tbody tr th {\n        vertical-align: top;\n    }\n\n    .dataframe thead th {\n        text-align: right;\n    }\n</style>\n<table border=\"1\" class=\"dataframe\">\n  <thead>\n    <tr style=\"text-align: right;\">\n      <th></th>\n      <th>公司代號</th>\n      <th>公司簡稱</th>\n      <th>負債佔資產比率(%)</th>\n      <th>長期資金佔不動產、廠房及設備比率(%)</th>\n      <th>流動比率(%)</th>\n      <th>速動比率(%)</th>\n      <th>利息保障倍數(%)</th>\n      <th>應收款項週轉率(次)</th>\n      <th>平均收現日數</th>\n      <th>存貨週轉率(次)</th>\n      <th>...</th>\n      <th>不動產、廠房及設備週轉率(次)</th>\n      <th>總資產週轉率(次)</th>\n      <th>資產報酬率(%)</th>\n      <th>權益報酬率(%)</th>\n      <th>稅前純益佔實收資本比率(%)</th>\n      <th>純益率(%)</th>\n      <th>每股盈餘(元)</th>\n      <th>現金流量比率(%)</th>\n      <th>現金流量允當比率(%)</th>\n      <th>現金再投資比率(%)</th>\n    </tr>\n  </thead>\n  <tbody>\n    <tr>\n      <th>0</th>\n      <td>1101</td>\n      <td>台泥</td>\n      <td>45.66</td>\n      <td>194.10</td>\n      <td>124.70</td>\n      <td>110.88</td>\n      <td>12.42</td>\n      <td>5.15</td>\n      <td>70.87</td>\n      <td>9.85</td>\n      <td>...</td>\n      <td>1.09</td>\n      <td>0.42</td>\n      <td>5.92</td>\n      <td>10.24</td>\n      <td>50.39</td>\n      <td>13.02</td>\n      <td>2.72</td>\n      <td>31.21</td>\n      <td>103.54</td>\n      <td>6.27</td>\n    </tr>\n    <tr>\n      <th>1</th>\n      <td>1102</td>\n      <td>亞泥</td>\n      <td>50.31</td>\n      <td>246.85</td>\n      <td>105.46</td>\n      <td>92.77</td>\n      <td>7.27</td>\n      <td>4.15</td>\n      <td>87.95</td>\n      <td>7.95</td>\n      <td>...</td>\n      <td>1.19</td>\n      <td>0.32</td>\n      <td>4.79</td>\n      <td>8.04</td>\n      <td>31.19</td>\n      <td>12.04</td>\n      <td>2.21</td>\n      <td>23.86</td>\n      <td>83.19</td>\n      <td>5.18</td>\n    </tr>\n    <tr>\n      <th>2</th>\n      <td>1103</td>\n      <td>嘉泥</td>\n      <td>35.58</td>\n      <td>832.12</td>\n      <td>412.74</td>\n      <td>367.86</td>\n      <td>881.41</td>\n      <td>6.30</td>\n      <td>57.93</td>\n      <td>2.56</td>\n      <td>...</td>\n      <td>1.15</td>\n      <td>0.13</td>\n      <td>4.57</td>\n      <td>6.80</td>\n      <td>17.23</td>\n      <td>30.22</td>\n      <td>1.97</td>\n      <td>0.00</td>\n      <td>45.45</td>\n      <td>0.00</td>\n    </tr>\n    <tr>\n      <th>3</th>\n      <td>1104</td>\n      <td>環泥</td>\n      <td>18.08</td>\n      <td>248.67</td>\n      <td>154.73</td>\n      <td>133.99</td>\n      <td>169.33</td>\n      <td>4.21</td>\n      <td>86.69</td>\n      <td>14.26</td>\n      <td>...</td>\n      <td>0.90</td>\n      <td>0.30</td>\n      <td>6.68</td>\n      <td>8.16</td>\n      <td>19.02</td>\n      <td>21.21</td>\n      <td>1.84</td>\n      <td>23.35</td>\n      <td>79.11</td>\n      <td>-0.27</td>\n    </tr>\n    <tr>\n      <th>4</th>\n      <td>1108</td>\n      <td>幸福</td>\n      <td>48.70</td>\n      <td>260.62</td>\n      <td>250.11</td>\n      <td>78.18</td>\n      <td>4.05</td>\n      <td>4.55</td>\n      <td>80.21</td>\n      <td>1.17</td>\n      <td>...</td>\n      <td>2.00</td>\n      <td>0.57</td>\n      <td>2.54</td>\n      <td>3.78</td>\n      <td>5.23</td>\n      <td>3.34</td>\n      <td>0.44</td>\n      <td>27.79</td>\n      <td>192.58</td>\n      <td>3.46</td>\n    </tr>\n    <tr>\n      <th>...</th>\n      <td>...</td>\n      <td>...</td>\n      <td>...</td>\n      <td>...</td>\n      <td>...</td>\n      <td>...</td>\n      <td>...</td>\n      <td>...</td>\n      <td>...</td>\n      <td>...</td>\n      <td>...</td>\n      <td>...</td>\n      <td>...</td>\n      <td>...</td>\n      <td>...</td>\n      <td>...</td>\n      <td>...</td>\n      <td>...</td>\n      <td>...</td>\n      <td>...</td>\n      <td>...</td>\n    </tr>\n    <tr>\n      <th>989</th>\n      <td>9944</td>\n      <td>新麗</td>\n      <td>43.16</td>\n      <td>151.17</td>\n      <td>139.50</td>\n      <td>104.37</td>\n      <td>6.83</td>\n      <td>5.78</td>\n      <td>63.14</td>\n      <td>6.17</td>\n      <td>...</td>\n      <td>1.96</td>\n      <td>0.82</td>\n      <td>3.27</td>\n      <td>4.77</td>\n      <td>17.25</td>\n      <td>3.20</td>\n      <td>1.05</td>\n      <td>13.35</td>\n      <td>89.23</td>\n      <td>4.71</td>\n    </tr>\n    <tr>\n      <th>990</th>\n      <td>9945</td>\n      <td>潤泰新</td>\n      <td>42.36</td>\n      <td>1866.63</td>\n      <td>138.19</td>\n      <td>37.64</td>\n      <td>70.08</td>\n      <td>8.44</td>\n      <td>43.24</td>\n      <td>0.64</td>\n      <td>...</td>\n      <td>4.45</td>\n      <td>0.21</td>\n      <td>44.28</td>\n      <td>81.83</td>\n      <td>264.98</td>\n      <td>206.84</td>\n      <td>29.03</td>\n      <td>0.00</td>\n      <td>0.00</td>\n      <td>0.00</td>\n    </tr>\n    <tr>\n      <th>991</th>\n      <td>9946</td>\n      <td>三發地產</td>\n      <td>62.99</td>\n      <td>3201.78</td>\n      <td>170.96</td>\n      <td>19.97</td>\n      <td>1560.21</td>\n      <td>228.84</td>\n      <td>1.59</td>\n      <td>0.42</td>\n      <td>...</td>\n      <td>38.43</td>\n      <td>0.55</td>\n      <td>13.74</td>\n      <td>41.31</td>\n      <td>75.11</td>\n      <td>24.78</td>\n      <td>6.71</td>\n      <td>11.07</td>\n      <td>-62.79</td>\n      <td>4.64</td>\n    </tr>\n    <tr>\n      <th>992</th>\n      <td>9955</td>\n      <td>佳龍</td>\n      <td>31.11</td>\n      <td>177.34</td>\n      <td>328.33</td>\n      <td>97.01</td>\n      <td>-7.12</td>\n      <td>25.34</td>\n      <td>14.40</td>\n      <td>3.02</td>\n      <td>...</td>\n      <td>3.30</td>\n      <td>1.31</td>\n      <td>-1.69</td>\n      <td>-2.69</td>\n      <td>-7.13</td>\n      <td>-1.46</td>\n      <td>-0.61</td>\n      <td>46.19</td>\n      <td>24.25</td>\n      <td>6.36</td>\n    </tr>\n    <tr>\n      <th>993</th>\n      <td>9958</td>\n      <td>世紀鋼</td>\n      <td>51.87</td>\n      <td>205.97</td>\n      <td>154.09</td>\n      <td>81.81</td>\n      <td>4.30</td>\n      <td>2.41</td>\n      <td>151.45</td>\n      <td>1.81</td>\n      <td>...</td>\n      <td>2.84</td>\n      <td>0.69</td>\n      <td>4.86</td>\n      <td>9.44</td>\n      <td>11.88</td>\n      <td>5.49</td>\n      <td>1.20</td>\n      <td>27.15</td>\n      <td>58.74</td>\n      <td>18.83</td>\n    </tr>\n  </tbody>\n</table>\n<p>994 rows × 21 columns</p>\n</div>"
     },
     "metadata": {},
     "execution_count": 30
    }
   ],
   "source": [
    "df.reset_index().drop('index', axis=1)"
   ]
  }
 ],
 "metadata": {
  "language_info": {
   "codemirror_mode": {
    "name": "ipython",
    "version": 3
   },
   "file_extension": ".py",
   "mimetype": "text/x-python",
   "name": "python",
   "nbconvert_exporter": "python",
   "pygments_lexer": "ipython3",
   "version": "3.7.6-final"
  },
  "orig_nbformat": 2,
  "kernelspec": {
   "name": "python37664bitebfe11dd887248b89b6aa10862e146c6",
   "display_name": "Python 3.7.6 64-bit"
  }
 },
 "nbformat": 4,
 "nbformat_minor": 2
}